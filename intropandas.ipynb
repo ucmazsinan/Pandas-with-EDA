{
  "cells":[
    {
      "cell_type":"code",
      "source":[
        "import pandas as pd"
      ],
      "execution_count":0,
      "outputs":[
        
      ],
      "metadata":{
        
      }
    },
    {
      "cell_type":"code",
      "source":[
        "colnames = ['country','continent','year','life_exp','population','gdp_per_capita']"
      ],
      "execution_count":0,
      "outputs":[
        
      ],
      "metadata":{
        
      }
    },
    {
      "cell_type":"code",
      "source":[
        "\n",
        "df = pd.read_csv(\"https:\/\/raw.githubusercontent.com\/chendaniely\/pandas_for_everyone\/master\/data\/gapminder.tsv\",\n",
        "                 sep = \"\\t\", na_values = 'n\/a',thousands = ',')"
      ],
      "execution_count":0,
      "outputs":[
        
      ],
      "metadata":{
        
      }
    },
    {
      "cell_type":"code",
      "source":[
        "df.columns = colnames"
      ],
      "execution_count":0,
      "outputs":[
        
      ],
      "metadata":{
        
      }
    },
    {
      "cell_type":"code",
      "source":[
        "df.head()"
      ],
      "execution_count":0,
      "outputs":[
        {
          "data":{
            "text\/html":[
              "<div>\n",
              "<style scoped>\n",
              "    .dataframe tbody tr th:only-of-type {\n",
              "        vertical-align: middle;\n",
              "    }\n",
              "\n",
              "    .dataframe tbody tr th {\n",
              "        vertical-align: top;\n",
              "    }\n",
              "\n",
              "    .dataframe thead th {\n",
              "        text-align: right;\n",
              "    }\n",
              "<\/style>\n",
              "<table border=\"1\" class=\"dataframe\">\n",
              "  <thead>\n",
              "    <tr style=\"text-align: right;\">\n",
              "      <th><\/th>\n",
              "      <th>country<\/th>\n",
              "      <th>continent<\/th>\n",
              "      <th>year<\/th>\n",
              "      <th>life_exp<\/th>\n",
              "      <th>population<\/th>\n",
              "      <th>gdp_per_capita<\/th>\n",
              "    <\/tr>\n",
              "  <\/thead>\n",
              "  <tbody>\n",
              "    <tr>\n",
              "      <th>0<\/th>\n",
              "      <td>Afghanistan<\/td>\n",
              "      <td>Asia<\/td>\n",
              "      <td>1952<\/td>\n",
              "      <td>28.801<\/td>\n",
              "      <td>8425333<\/td>\n",
              "      <td>779.445314<\/td>\n",
              "    <\/tr>\n",
              "    <tr>\n",
              "      <th>1<\/th>\n",
              "      <td>Afghanistan<\/td>\n",
              "      <td>Asia<\/td>\n",
              "      <td>1957<\/td>\n",
              "      <td>30.332<\/td>\n",
              "      <td>9240934<\/td>\n",
              "      <td>820.853030<\/td>\n",
              "    <\/tr>\n",
              "    <tr>\n",
              "      <th>2<\/th>\n",
              "      <td>Afghanistan<\/td>\n",
              "      <td>Asia<\/td>\n",
              "      <td>1962<\/td>\n",
              "      <td>31.997<\/td>\n",
              "      <td>10267083<\/td>\n",
              "      <td>853.100710<\/td>\n",
              "    <\/tr>\n",
              "    <tr>\n",
              "      <th>3<\/th>\n",
              "      <td>Afghanistan<\/td>\n",
              "      <td>Asia<\/td>\n",
              "      <td>1967<\/td>\n",
              "      <td>34.020<\/td>\n",
              "      <td>11537966<\/td>\n",
              "      <td>836.197138<\/td>\n",
              "    <\/tr>\n",
              "    <tr>\n",
              "      <th>4<\/th>\n",
              "      <td>Afghanistan<\/td>\n",
              "      <td>Asia<\/td>\n",
              "      <td>1972<\/td>\n",
              "      <td>36.088<\/td>\n",
              "      <td>13079460<\/td>\n",
              "      <td>739.981106<\/td>\n",
              "    <\/tr>\n",
              "  <\/tbody>\n",
              "<\/table>\n",
              "<\/div>"
            ]
          },
          "metadata":{
            
          },
          "output_type":"display_data"
        }
      ],
      "metadata":{
        
      }
    },
    {
      "cell_type":"code",
      "source":[
        "type(df)"
      ],
      "execution_count":0,
      "outputs":[
        {
          "data":{
            "text\/plain":[
              "pandas.core.frame.DataFrame"
            ]
          },
          "metadata":{
            
          },
          "output_type":"display_data"
        }
      ],
      "metadata":{
        
      }
    },
    {
      "cell_type":"code",
      "source":[
        "df.shape"
      ],
      "execution_count":0,
      "outputs":[
        {
          "data":{
            "text\/plain":[
              "(1704, 6)"
            ]
          },
          "metadata":{
            
          },
          "output_type":"display_data"
        }
      ],
      "metadata":{
        
      }
    },
    {
      "cell_type":"code",
      "source":[
        "type(df.columns)"
      ],
      "execution_count":0,
      "outputs":[
        {
          "data":{
            "text\/plain":[
              "pandas.core.indexes.base.Index"
            ]
          },
          "metadata":{
            
          },
          "output_type":"display_data"
        }
      ],
      "metadata":{
        
      }
    },
    {
      "cell_type":"code",
      "source":[
        "df.dtypes"
      ],
      "execution_count":0,
      "outputs":[
        {
          "data":{
            "text\/plain":[
              "country            object\n",
              "continent          object\n",
              "year                int64\n",
              "life_exp          float64\n",
              "population          int64\n",
              "gdp_per_capita    float64\n",
              "dtype: object"
            ]
          },
          "metadata":{
            
          },
          "output_type":"display_data"
        }
      ],
      "metadata":{
        
      }
    },
    {
      "cell_type":"code",
      "source":[
        "df.info()"
      ],
      "execution_count":0,
      "outputs":[
        {
          "name":"stdout",
          "text":[
            "<class 'pandas.core.frame.DataFrame'>\n",
            "RangeIndex: 1704 entries, 0 to 1703\n",
            "Data columns (total 6 columns):\n",
            " #   Column          Non-Null Count  Dtype  \n",
            "---  ------          --------------  -----  \n",
            " 0   country         1704 non-null   object \n",
            " 1   continent       1704 non-null   object \n",
            " 2   year            1704 non-null   int64  \n",
            " 3   life_exp        1704 non-null   float64\n",
            " 4   population      1704 non-null   int64  \n",
            " 5   gdp_per_capita  1704 non-null   float64\n",
            "dtypes: float64(2), int64(2), object(2)\n",
            "memory usage: 80.0+ KB\n"
          ],
          "output_type":"stream"
        }
      ],
      "metadata":{
        
      }
    },
    {
      "cell_type":"code",
      "source":[
        "df[\"country\"].tail()"
      ],
      "execution_count":0,
      "outputs":[
        {
          "data":{
            "text\/plain":[
              "1699    Zimbabwe\n",
              "1700    Zimbabwe\n",
              "1701    Zimbabwe\n",
              "1702    Zimbabwe\n",
              "1703    Zimbabwe\n",
              "Name: country, dtype: object"
            ]
          },
          "metadata":{
            
          },
          "output_type":"display_data"
        }
      ],
      "metadata":{
        
      }
    },
    {
      "cell_type":"code",
      "source":[
        "df.country.tail()"
      ],
      "execution_count":0,
      "outputs":[
        {
          "data":{
            "text\/plain":[
              "1699    Zimbabwe\n",
              "1700    Zimbabwe\n",
              "1701    Zimbabwe\n",
              "1702    Zimbabwe\n",
              "1703    Zimbabwe\n",
              "Name: country, dtype: object"
            ]
          },
          "metadata":{
            
          },
          "output_type":"display_data"
        }
      ],
      "metadata":{
        
      }
    },
    {
      "cell_type":"code",
      "source":[
        "subset = df[[\"year\",\"continent\",\"country\"]]"
      ],
      "execution_count":0,
      "outputs":[
        
      ],
      "metadata":{
        
      }
    },
    {
      "cell_type":"code",
      "source":[
        "subset.sample(15)"
      ],
      "execution_count":0,
      "outputs":[
        {
          "data":{
            "text\/html":[
              "<div>\n",
              "<style scoped>\n",
              "    .dataframe tbody tr th:only-of-type {\n",
              "        vertical-align: middle;\n",
              "    }\n",
              "\n",
              "    .dataframe tbody tr th {\n",
              "        vertical-align: top;\n",
              "    }\n",
              "\n",
              "    .dataframe thead th {\n",
              "        text-align: right;\n",
              "    }\n",
              "<\/style>\n",
              "<table border=\"1\" class=\"dataframe\">\n",
              "  <thead>\n",
              "    <tr style=\"text-align: right;\">\n",
              "      <th><\/th>\n",
              "      <th>year<\/th>\n",
              "      <th>continent<\/th>\n",
              "      <th>country<\/th>\n",
              "    <\/tr>\n",
              "  <\/thead>\n",
              "  <tbody>\n",
              "    <tr>\n",
              "      <th>737<\/th>\n",
              "      <td>1977<\/td>\n",
              "      <td>Asia<\/td>\n",
              "      <td>Iraq<\/td>\n",
              "    <\/tr>\n",
              "    <tr>\n",
              "      <th>830<\/th>\n",
              "      <td>1962<\/td>\n",
              "      <td>Asia<\/td>\n",
              "      <td>Korea, Dem. Rep.<\/td>\n",
              "    <\/tr>\n",
              "    <tr>\n",
              "      <th>716<\/th>\n",
              "      <td>1992<\/td>\n",
              "      <td>Asia<\/td>\n",
              "      <td>Indonesia<\/td>\n",
              "    <\/tr>\n",
              "    <tr>\n",
              "      <th>1187<\/th>\n",
              "      <td>2007<\/td>\n",
              "      <td>Americas<\/td>\n",
              "      <td>Panama<\/td>\n",
              "    <\/tr>\n",
              "    <tr>\n",
              "      <th>1410<\/th>\n",
              "      <td>1982<\/td>\n",
              "      <td>Africa<\/td>\n",
              "      <td>South Africa<\/td>\n",
              "    <\/tr>\n",
              "    <tr>\n",
              "      <th>160<\/th>\n",
              "      <td>1972<\/td>\n",
              "      <td>Africa<\/td>\n",
              "      <td>Botswana<\/td>\n",
              "    <\/tr>\n",
              "    <tr>\n",
              "      <th>887<\/th>\n",
              "      <td>2007<\/td>\n",
              "      <td>Africa<\/td>\n",
              "      <td>Lesotho<\/td>\n",
              "    <\/tr>\n",
              "    <tr>\n",
              "      <th>879<\/th>\n",
              "      <td>1967<\/td>\n",
              "      <td>Africa<\/td>\n",
              "      <td>Lesotho<\/td>\n",
              "    <\/tr>\n",
              "    <tr>\n",
              "      <th>904<\/th>\n",
              "      <td>1972<\/td>\n",
              "      <td>Africa<\/td>\n",
              "      <td>Libya<\/td>\n",
              "    <\/tr>\n",
              "    <tr>\n",
              "      <th>1044<\/th>\n",
              "      <td>1952<\/td>\n",
              "      <td>Asia<\/td>\n",
              "      <td>Myanmar<\/td>\n",
              "    <\/tr>\n",
              "    <tr>\n",
              "      <th>705<\/th>\n",
              "      <td>1997<\/td>\n",
              "      <td>Asia<\/td>\n",
              "      <td>India<\/td>\n",
              "    <\/tr>\n",
              "    <tr>\n",
              "      <th>20<\/th>\n",
              "      <td>1992<\/td>\n",
              "      <td>Europe<\/td>\n",
              "      <td>Albania<\/td>\n",
              "    <\/tr>\n",
              "    <tr>\n",
              "      <th>1689<\/th>\n",
              "      <td>1997<\/td>\n",
              "      <td>Africa<\/td>\n",
              "      <td>Zambia<\/td>\n",
              "    <\/tr>\n",
              "    <tr>\n",
              "      <th>901<\/th>\n",
              "      <td>1957<\/td>\n",
              "      <td>Africa<\/td>\n",
              "      <td>Libya<\/td>\n",
              "    <\/tr>\n",
              "    <tr>\n",
              "      <th>211<\/th>\n",
              "      <td>1987<\/td>\n",
              "      <td>Africa<\/td>\n",
              "      <td>Burundi<\/td>\n",
              "    <\/tr>\n",
              "  <\/tbody>\n",
              "<\/table>\n",
              "<\/div>"
            ]
          },
          "metadata":{
            
          },
          "output_type":"display_data"
        }
      ],
      "metadata":{
        
      }
    },
    {
      "cell_type":"code",
      "source":[
        "df.loc[150:189,[\"year\",\"gdp_per_capita\"]]"
      ],
      "execution_count":0,
      "outputs":[
        {
          "data":{
            "text\/html":[
              "<div>\n",
              "<style scoped>\n",
              "    .dataframe tbody tr th:only-of-type {\n",
              "        vertical-align: middle;\n",
              "    }\n",
              "\n",
              "    .dataframe tbody tr th {\n",
              "        vertical-align: top;\n",
              "    }\n",
              "\n",
              "    .dataframe thead th {\n",
              "        text-align: right;\n",
              "    }\n",
              "<\/style>\n",
              "<table border=\"1\" class=\"dataframe\">\n",
              "  <thead>\n",
              "    <tr style=\"text-align: right;\">\n",
              "      <th><\/th>\n",
              "      <th>year<\/th>\n",
              "      <th>gdp_per_capita<\/th>\n",
              "    <\/tr>\n",
              "  <\/thead>\n",
              "  <tbody>\n",
              "    <tr>\n",
              "      <th>150<\/th>\n",
              "      <td>1982<\/td>\n",
              "      <td>4126.613157<\/td>\n",
              "    <\/tr>\n",
              "    <tr>\n",
              "      <th>151<\/th>\n",
              "      <td>1987<\/td>\n",
              "      <td>4314.114757<\/td>\n",
              "    <\/tr>\n",
              "    <tr>\n",
              "      <th>152<\/th>\n",
              "      <td>1992<\/td>\n",
              "      <td>2546.781445<\/td>\n",
              "    <\/tr>\n",
              "    <tr>\n",
              "      <th>153<\/th>\n",
              "      <td>1997<\/td>\n",
              "      <td>4766.355904<\/td>\n",
              "    <\/tr>\n",
              "    <tr>\n",
              "      <th>154<\/th>\n",
              "      <td>2002<\/td>\n",
              "      <td>6018.975239<\/td>\n",
              "    <\/tr>\n",
              "    <tr>\n",
              "      <th>155<\/th>\n",
              "      <td>2007<\/td>\n",
              "      <td>7446.298803<\/td>\n",
              "    <\/tr>\n",
              "    <tr>\n",
              "      <th>156<\/th>\n",
              "      <td>1952<\/td>\n",
              "      <td>851.241141<\/td>\n",
              "    <\/tr>\n",
              "    <tr>\n",
              "      <th>157<\/th>\n",
              "      <td>1957<\/td>\n",
              "      <td>918.232535<\/td>\n",
              "    <\/tr>\n",
              "    <tr>\n",
              "      <th>158<\/th>\n",
              "      <td>1962<\/td>\n",
              "      <td>983.653976<\/td>\n",
              "    <\/tr>\n",
              "    <tr>\n",
              "      <th>159<\/th>\n",
              "      <td>1967<\/td>\n",
              "      <td>1214.709294<\/td>\n",
              "    <\/tr>\n",
              "    <tr>\n",
              "      <th>160<\/th>\n",
              "      <td>1972<\/td>\n",
              "      <td>2263.611114<\/td>\n",
              "    <\/tr>\n",
              "    <tr>\n",
              "      <th>161<\/th>\n",
              "      <td>1977<\/td>\n",
              "      <td>3214.857818<\/td>\n",
              "    <\/tr>\n",
              "    <tr>\n",
              "      <th>162<\/th>\n",
              "      <td>1982<\/td>\n",
              "      <td>4551.142150<\/td>\n",
              "    <\/tr>\n",
              "    <tr>\n",
              "      <th>163<\/th>\n",
              "      <td>1987<\/td>\n",
              "      <td>6205.883850<\/td>\n",
              "    <\/tr>\n",
              "    <tr>\n",
              "      <th>164<\/th>\n",
              "      <td>1992<\/td>\n",
              "      <td>7954.111645<\/td>\n",
              "    <\/tr>\n",
              "    <tr>\n",
              "      <th>165<\/th>\n",
              "      <td>1997<\/td>\n",
              "      <td>8647.142313<\/td>\n",
              "    <\/tr>\n",
              "    <tr>\n",
              "      <th>166<\/th>\n",
              "      <td>2002<\/td>\n",
              "      <td>11003.605080<\/td>\n",
              "    <\/tr>\n",
              "    <tr>\n",
              "      <th>167<\/th>\n",
              "      <td>2007<\/td>\n",
              "      <td>12569.851770<\/td>\n",
              "    <\/tr>\n",
              "    <tr>\n",
              "      <th>168<\/th>\n",
              "      <td>1952<\/td>\n",
              "      <td>2108.944355<\/td>\n",
              "    <\/tr>\n",
              "    <tr>\n",
              "      <th>169<\/th>\n",
              "      <td>1957<\/td>\n",
              "      <td>2487.365989<\/td>\n",
              "    <\/tr>\n",
              "    <tr>\n",
              "      <th>170<\/th>\n",
              "      <td>1962<\/td>\n",
              "      <td>3336.585802<\/td>\n",
              "    <\/tr>\n",
              "    <tr>\n",
              "      <th>171<\/th>\n",
              "      <td>1967<\/td>\n",
              "      <td>3429.864357<\/td>\n",
              "    <\/tr>\n",
              "    <tr>\n",
              "      <th>172<\/th>\n",
              "      <td>1972<\/td>\n",
              "      <td>4985.711467<\/td>\n",
              "    <\/tr>\n",
              "    <tr>\n",
              "      <th>173<\/th>\n",
              "      <td>1977<\/td>\n",
              "      <td>6660.118654<\/td>\n",
              "    <\/tr>\n",
              "    <tr>\n",
              "      <th>174<\/th>\n",
              "      <td>1982<\/td>\n",
              "      <td>7030.835878<\/td>\n",
              "    <\/tr>\n",
              "    <tr>\n",
              "      <th>175<\/th>\n",
              "      <td>1987<\/td>\n",
              "      <td>7807.095818<\/td>\n",
              "    <\/tr>\n",
              "    <tr>\n",
              "      <th>176<\/th>\n",
              "      <td>1992<\/td>\n",
              "      <td>6950.283021<\/td>\n",
              "    <\/tr>\n",
              "    <tr>\n",
              "      <th>177<\/th>\n",
              "      <td>1997<\/td>\n",
              "      <td>7957.980824<\/td>\n",
              "    <\/tr>\n",
              "    <tr>\n",
              "      <th>178<\/th>\n",
              "      <td>2002<\/td>\n",
              "      <td>8131.212843<\/td>\n",
              "    <\/tr>\n",
              "    <tr>\n",
              "      <th>179<\/th>\n",
              "      <td>2007<\/td>\n",
              "      <td>9065.800825<\/td>\n",
              "    <\/tr>\n",
              "    <tr>\n",
              "      <th>180<\/th>\n",
              "      <td>1952<\/td>\n",
              "      <td>2444.286648<\/td>\n",
              "    <\/tr>\n",
              "    <tr>\n",
              "      <th>181<\/th>\n",
              "      <td>1957<\/td>\n",
              "      <td>3008.670727<\/td>\n",
              "    <\/tr>\n",
              "    <tr>\n",
              "      <th>182<\/th>\n",
              "      <td>1962<\/td>\n",
              "      <td>4254.337839<\/td>\n",
              "    <\/tr>\n",
              "    <tr>\n",
              "      <th>183<\/th>\n",
              "      <td>1967<\/td>\n",
              "      <td>5577.002800<\/td>\n",
              "    <\/tr>\n",
              "    <tr>\n",
              "      <th>184<\/th>\n",
              "      <td>1972<\/td>\n",
              "      <td>6597.494398<\/td>\n",
              "    <\/tr>\n",
              "    <tr>\n",
              "      <th>185<\/th>\n",
              "      <td>1977<\/td>\n",
              "      <td>7612.240438<\/td>\n",
              "    <\/tr>\n",
              "    <tr>\n",
              "      <th>186<\/th>\n",
              "      <td>1982<\/td>\n",
              "      <td>8224.191647<\/td>\n",
              "    <\/tr>\n",
              "    <tr>\n",
              "      <th>187<\/th>\n",
              "      <td>1987<\/td>\n",
              "      <td>8239.854824<\/td>\n",
              "    <\/tr>\n",
              "    <tr>\n",
              "      <th>188<\/th>\n",
              "      <td>1992<\/td>\n",
              "      <td>6302.623438<\/td>\n",
              "    <\/tr>\n",
              "    <tr>\n",
              "      <th>189<\/th>\n",
              "      <td>1997<\/td>\n",
              "      <td>5970.388760<\/td>\n",
              "    <\/tr>\n",
              "  <\/tbody>\n",
              "<\/table>\n",
              "<\/div>"
            ]
          },
          "metadata":{
            
          },
          "output_type":"display_data"
        }
      ],
      "metadata":{
        
      }
    },
    {
      "cell_type":"code",
      "source":[
        "df.loc[0]"
      ],
      "execution_count":0,
      "outputs":[
        {
          "data":{
            "text\/plain":[
              "country           Afghanistan\n",
              "continent                Asia\n",
              "year                     1952\n",
              "life_exp               28.801\n",
              "population            8425333\n",
              "gdp_per_capita     779.445314\n",
              "Name: 0, dtype: object"
            ]
          },
          "metadata":{
            
          },
          "output_type":"display_data"
        }
      ],
      "metadata":{
        
      }
    },
    {
      "cell_type":"code",
      "source":[
        "df.loc[0]"
      ],
      "execution_count":0,
      "outputs":[
        {
          "data":{
            "text\/plain":[
              "country           Afghanistan\n",
              "continent                Asia\n",
              "year                     1952\n",
              "life_exp               28.801\n",
              "population            8425333\n",
              "gdp_per_capita     779.445314\n",
              "Name: 0, dtype: object"
            ]
          },
          "metadata":{
            
          },
          "output_type":"display_data"
        }
      ],
      "metadata":{
        
      }
    },
    {
      "cell_type":"code",
      "source":[
        "df.iloc[-1]"
      ],
      "execution_count":0,
      "outputs":[
        {
          "data":{
            "text\/plain":[
              "country             Zimbabwe\n",
              "continent             Africa\n",
              "year                    2007\n",
              "life_exp              43.487\n",
              "population          12311143\n",
              "gdp_per_capita    469.709298\n",
              "Name: 1703, dtype: object"
            ]
          },
          "metadata":{
            
          },
          "output_type":"display_data"
        }
      ],
      "metadata":{
        
      }
    },
    {
      "cell_type":"code",
      "source":[
        "number_of_rows = df.shape[0]\n",
        "last_index = number_of_rows -1 "
      ],
      "execution_count":0,
      "outputs":[
        
      ],
      "metadata":{
        
      }
    },
    {
      "cell_type":"code",
      "source":[
        "df.loc[last_index]"
      ],
      "execution_count":0,
      "outputs":[
        {
          "data":{
            "text\/plain":[
              "country             Zimbabwe\n",
              "continent             Africa\n",
              "year                    2007\n",
              "life_exp              43.487\n",
              "population          12311143\n",
              "gdp_per_capita    469.709298\n",
              "Name: 1703, dtype: object"
            ]
          },
          "metadata":{
            
          },
          "output_type":"display_data"
        }
      ],
      "metadata":{
        
      }
    },
    {
      "cell_type":"code",
      "source":[
        "df.tail()"
      ],
      "execution_count":0,
      "outputs":[
        {
          "data":{
            "text\/html":[
              "<div>\n",
              "<style scoped>\n",
              "    .dataframe tbody tr th:only-of-type {\n",
              "        vertical-align: middle;\n",
              "    }\n",
              "\n",
              "    .dataframe tbody tr th {\n",
              "        vertical-align: top;\n",
              "    }\n",
              "\n",
              "    .dataframe thead th {\n",
              "        text-align: right;\n",
              "    }\n",
              "<\/style>\n",
              "<table border=\"1\" class=\"dataframe\">\n",
              "  <thead>\n",
              "    <tr style=\"text-align: right;\">\n",
              "      <th><\/th>\n",
              "      <th>country<\/th>\n",
              "      <th>continent<\/th>\n",
              "      <th>year<\/th>\n",
              "      <th>life_exp<\/th>\n",
              "      <th>population<\/th>\n",
              "      <th>gdp_per_capita<\/th>\n",
              "    <\/tr>\n",
              "  <\/thead>\n",
              "  <tbody>\n",
              "    <tr>\n",
              "      <th>1699<\/th>\n",
              "      <td>Zimbabwe<\/td>\n",
              "      <td>Africa<\/td>\n",
              "      <td>1987<\/td>\n",
              "      <td>62.351<\/td>\n",
              "      <td>9216418<\/td>\n",
              "      <td>706.157306<\/td>\n",
              "    <\/tr>\n",
              "    <tr>\n",
              "      <th>1700<\/th>\n",
              "      <td>Zimbabwe<\/td>\n",
              "      <td>Africa<\/td>\n",
              "      <td>1992<\/td>\n",
              "      <td>60.377<\/td>\n",
              "      <td>10704340<\/td>\n",
              "      <td>693.420786<\/td>\n",
              "    <\/tr>\n",
              "    <tr>\n",
              "      <th>1701<\/th>\n",
              "      <td>Zimbabwe<\/td>\n",
              "      <td>Africa<\/td>\n",
              "      <td>1997<\/td>\n",
              "      <td>46.809<\/td>\n",
              "      <td>11404948<\/td>\n",
              "      <td>792.449960<\/td>\n",
              "    <\/tr>\n",
              "    <tr>\n",
              "      <th>1702<\/th>\n",
              "      <td>Zimbabwe<\/td>\n",
              "      <td>Africa<\/td>\n",
              "      <td>2002<\/td>\n",
              "      <td>39.989<\/td>\n",
              "      <td>11926563<\/td>\n",
              "      <td>672.038623<\/td>\n",
              "    <\/tr>\n",
              "    <tr>\n",
              "      <th>1703<\/th>\n",
              "      <td>Zimbabwe<\/td>\n",
              "      <td>Africa<\/td>\n",
              "      <td>2007<\/td>\n",
              "      <td>43.487<\/td>\n",
              "      <td>12311143<\/td>\n",
              "      <td>469.709298<\/td>\n",
              "    <\/tr>\n",
              "  <\/tbody>\n",
              "<\/table>\n",
              "<\/div>"
            ]
          },
          "metadata":{
            
          },
          "output_type":"display_data"
        }
      ],
      "metadata":{
        
      }
    },
    {
      "cell_type":"code",
      "source":[
        "subset_tail = df.tail(n=1)\n",
        "subset_tail"
      ],
      "execution_count":0,
      "outputs":[
        {
          "data":{
            "text\/html":[
              "<div>\n",
              "<style scoped>\n",
              "    .dataframe tbody tr th:only-of-type {\n",
              "        vertical-align: middle;\n",
              "    }\n",
              "\n",
              "    .dataframe tbody tr th {\n",
              "        vertical-align: top;\n",
              "    }\n",
              "\n",
              "    .dataframe thead th {\n",
              "        text-align: right;\n",
              "    }\n",
              "<\/style>\n",
              "<table border=\"1\" class=\"dataframe\">\n",
              "  <thead>\n",
              "    <tr style=\"text-align: right;\">\n",
              "      <th><\/th>\n",
              "      <th>country<\/th>\n",
              "      <th>continent<\/th>\n",
              "      <th>year<\/th>\n",
              "      <th>life_exp<\/th>\n",
              "      <th>population<\/th>\n",
              "      <th>gdp_per_capita<\/th>\n",
              "    <\/tr>\n",
              "  <\/thead>\n",
              "  <tbody>\n",
              "    <tr>\n",
              "      <th>1703<\/th>\n",
              "      <td>Zimbabwe<\/td>\n",
              "      <td>Africa<\/td>\n",
              "      <td>2007<\/td>\n",
              "      <td>43.487<\/td>\n",
              "      <td>12311143<\/td>\n",
              "      <td>469.709298<\/td>\n",
              "    <\/tr>\n",
              "  <\/tbody>\n",
              "<\/table>\n",
              "<\/div>"
            ]
          },
          "metadata":{
            
          },
          "output_type":"display_data"
        }
      ],
      "metadata":{
        
      }
    },
    {
      "cell_type":"code",
      "source":[
        "type(subset_tail)"
      ],
      "execution_count":0,
      "outputs":[
        {
          "data":{
            "text\/plain":[
              "pandas.core.frame.DataFrame"
            ]
          },
          "metadata":{
            
          },
          "output_type":"display_data"
        }
      ],
      "metadata":{
        
      }
    },
    {
      "cell_type":"code",
      "source":[
        "subset_loc  = df.loc[last_index]\n",
        "subset_loc"
      ],
      "execution_count":0,
      "outputs":[
        {
          "data":{
            "text\/plain":[
              "country             Zimbabwe\n",
              "continent             Africa\n",
              "year                    2007\n",
              "life_exp              43.487\n",
              "population          12311143\n",
              "gdp_per_capita    469.709298\n",
              "Name: 1703, dtype: object"
            ]
          },
          "metadata":{
            
          },
          "output_type":"display_data"
        }
      ],
      "metadata":{
        
      }
    },
    {
      "cell_type":"code",
      "source":[
        "type(subset_loc,)"
      ],
      "execution_count":0,
      "outputs":[
        {
          "data":{
            "text\/plain":[
              "pandas.core.series.Series"
            ]
          },
          "metadata":{
            
          },
          "output_type":"display_data"
        }
      ],
      "metadata":{
        
      }
    },
    {
      "cell_type":"code",
      "source":[
        "df.loc[[123,45,456]]"
      ],
      "execution_count":0,
      "outputs":[
        {
          "data":{
            "text\/html":[
              "<div>\n",
              "<style scoped>\n",
              "    .dataframe tbody tr th:only-of-type {\n",
              "        vertical-align: middle;\n",
              "    }\n",
              "\n",
              "    .dataframe tbody tr th {\n",
              "        vertical-align: top;\n",
              "    }\n",
              "\n",
              "    .dataframe thead th {\n",
              "        text-align: right;\n",
              "    }\n",
              "<\/style>\n",
              "<table border=\"1\" class=\"dataframe\">\n",
              "  <thead>\n",
              "    <tr style=\"text-align: right;\">\n",
              "      <th><\/th>\n",
              "      <th>country<\/th>\n",
              "      <th>continent<\/th>\n",
              "      <th>year<\/th>\n",
              "      <th>life_exp<\/th>\n",
              "      <th>population<\/th>\n",
              "      <th>gdp_per_capita<\/th>\n",
              "    <\/tr>\n",
              "  <\/thead>\n",
              "  <tbody>\n",
              "    <tr>\n",
              "      <th>123<\/th>\n",
              "      <td>Benin<\/td>\n",
              "      <td>Africa<\/td>\n",
              "      <td>1967<\/td>\n",
              "      <td>44.885<\/td>\n",
              "      <td>2427334<\/td>\n",
              "      <td>1035.831411<\/td>\n",
              "    <\/tr>\n",
              "    <tr>\n",
              "      <th>45<\/th>\n",
              "      <td>Angola<\/td>\n",
              "      <td>Africa<\/td>\n",
              "      <td>1997<\/td>\n",
              "      <td>40.963<\/td>\n",
              "      <td>9875024<\/td>\n",
              "      <td>2277.140884<\/td>\n",
              "    <\/tr>\n",
              "    <tr>\n",
              "      <th>456<\/th>\n",
              "      <td>Egypt<\/td>\n",
              "      <td>Africa<\/td>\n",
              "      <td>1952<\/td>\n",
              "      <td>41.893<\/td>\n",
              "      <td>22223309<\/td>\n",
              "      <td>1418.822445<\/td>\n",
              "    <\/tr>\n",
              "  <\/tbody>\n",
              "<\/table>\n",
              "<\/div>"
            ]
          },
          "metadata":{
            
          },
          "output_type":"display_data"
        }
      ],
      "metadata":{
        
      }
    },
    {
      "cell_type":"code",
      "source":[
        "df.iloc[[12,23,56],[0,3,5]]"
      ],
      "execution_count":0,
      "outputs":[
        {
          "data":{
            "text\/html":[
              "<div>\n",
              "<style scoped>\n",
              "    .dataframe tbody tr th:only-of-type {\n",
              "        vertical-align: middle;\n",
              "    }\n",
              "\n",
              "    .dataframe tbody tr th {\n",
              "        vertical-align: top;\n",
              "    }\n",
              "\n",
              "    .dataframe thead th {\n",
              "        text-align: right;\n",
              "    }\n",
              "<\/style>\n",
              "<table border=\"1\" class=\"dataframe\">\n",
              "  <thead>\n",
              "    <tr style=\"text-align: right;\">\n",
              "      <th><\/th>\n",
              "      <th>country<\/th>\n",
              "      <th>life_exp<\/th>\n",
              "      <th>gdp_per_capita<\/th>\n",
              "    <\/tr>\n",
              "  <\/thead>\n",
              "  <tbody>\n",
              "    <tr>\n",
              "      <th>12<\/th>\n",
              "      <td>Albania<\/td>\n",
              "      <td>55.230<\/td>\n",
              "      <td>1601.056136<\/td>\n",
              "    <\/tr>\n",
              "    <tr>\n",
              "      <th>23<\/th>\n",
              "      <td>Albania<\/td>\n",
              "      <td>76.423<\/td>\n",
              "      <td>5937.029526<\/td>\n",
              "    <\/tr>\n",
              "    <tr>\n",
              "      <th>56<\/th>\n",
              "      <td>Argentina<\/td>\n",
              "      <td>71.868<\/td>\n",
              "      <td>9308.418710<\/td>\n",
              "    <\/tr>\n",
              "  <\/tbody>\n",
              "<\/table>\n",
              "<\/div>"
            ]
          },
          "metadata":{
            
          },
          "output_type":"display_data"
        }
      ],
      "metadata":{
        
      }
    },
    {
      "cell_type":"code",
      "source":[
        "df.loc[34:56,['life_exp']]"
      ],
      "execution_count":0,
      "outputs":[
        {
          "data":{
            "text\/html":[
              "<div>\n",
              "<style scoped>\n",
              "    .dataframe tbody tr th:only-of-type {\n",
              "        vertical-align: middle;\n",
              "    }\n",
              "\n",
              "    .dataframe tbody tr th {\n",
              "        vertical-align: top;\n",
              "    }\n",
              "\n",
              "    .dataframe thead th {\n",
              "        text-align: right;\n",
              "    }\n",
              "<\/style>\n",
              "<table border=\"1\" class=\"dataframe\">\n",
              "  <thead>\n",
              "    <tr style=\"text-align: right;\">\n",
              "      <th><\/th>\n",
              "      <th>life_exp<\/th>\n",
              "    <\/tr>\n",
              "  <\/thead>\n",
              "  <tbody>\n",
              "    <tr>\n",
              "      <th>34<\/th>\n",
              "      <td>70.994<\/td>\n",
              "    <\/tr>\n",
              "    <tr>\n",
              "      <th>35<\/th>\n",
              "      <td>72.301<\/td>\n",
              "    <\/tr>\n",
              "    <tr>\n",
              "      <th>36<\/th>\n",
              "      <td>30.015<\/td>\n",
              "    <\/tr>\n",
              "    <tr>\n",
              "      <th>37<\/th>\n",
              "      <td>31.999<\/td>\n",
              "    <\/tr>\n",
              "    <tr>\n",
              "      <th>38<\/th>\n",
              "      <td>34.000<\/td>\n",
              "    <\/tr>\n",
              "    <tr>\n",
              "      <th>39<\/th>\n",
              "      <td>35.985<\/td>\n",
              "    <\/tr>\n",
              "    <tr>\n",
              "      <th>40<\/th>\n",
              "      <td>37.928<\/td>\n",
              "    <\/tr>\n",
              "    <tr>\n",
              "      <th>41<\/th>\n",
              "      <td>39.483<\/td>\n",
              "    <\/tr>\n",
              "    <tr>\n",
              "      <th>42<\/th>\n",
              "      <td>39.942<\/td>\n",
              "    <\/tr>\n",
              "    <tr>\n",
              "      <th>43<\/th>\n",
              "      <td>39.906<\/td>\n",
              "    <\/tr>\n",
              "    <tr>\n",
              "      <th>44<\/th>\n",
              "      <td>40.647<\/td>\n",
              "    <\/tr>\n",
              "    <tr>\n",
              "      <th>45<\/th>\n",
              "      <td>40.963<\/td>\n",
              "    <\/tr>\n",
              "    <tr>\n",
              "      <th>46<\/th>\n",
              "      <td>41.003<\/td>\n",
              "    <\/tr>\n",
              "    <tr>\n",
              "      <th>47<\/th>\n",
              "      <td>42.731<\/td>\n",
              "    <\/tr>\n",
              "    <tr>\n",
              "      <th>48<\/th>\n",
              "      <td>62.485<\/td>\n",
              "    <\/tr>\n",
              "    <tr>\n",
              "      <th>49<\/th>\n",
              "      <td>64.399<\/td>\n",
              "    <\/tr>\n",
              "    <tr>\n",
              "      <th>50<\/th>\n",
              "      <td>65.142<\/td>\n",
              "    <\/tr>\n",
              "    <tr>\n",
              "      <th>51<\/th>\n",
              "      <td>65.634<\/td>\n",
              "    <\/tr>\n",
              "    <tr>\n",
              "      <th>52<\/th>\n",
              "      <td>67.065<\/td>\n",
              "    <\/tr>\n",
              "    <tr>\n",
              "      <th>53<\/th>\n",
              "      <td>68.481<\/td>\n",
              "    <\/tr>\n",
              "    <tr>\n",
              "      <th>54<\/th>\n",
              "      <td>69.942<\/td>\n",
              "    <\/tr>\n",
              "    <tr>\n",
              "      <th>55<\/th>\n",
              "      <td>70.774<\/td>\n",
              "    <\/tr>\n",
              "    <tr>\n",
              "      <th>56<\/th>\n",
              "      <td>71.868<\/td>\n",
              "    <\/tr>\n",
              "  <\/tbody>\n",
              "<\/table>\n",
              "<\/div>"
            ]
          },
          "metadata":{
            
          },
          "output_type":"display_data"
        }
      ],
      "metadata":{
        
      }
    },
    {
      "cell_type":"code",
      "source":[
        "df.loc[56:78,['life_exp','gdp_per_capita','year']]"
      ],
      "execution_count":0,
      "outputs":[
        {
          "data":{
            "text\/html":[
              "<div>\n",
              "<style scoped>\n",
              "    .dataframe tbody tr th:only-of-type {\n",
              "        vertical-align: middle;\n",
              "    }\n",
              "\n",
              "    .dataframe tbody tr th {\n",
              "        vertical-align: top;\n",
              "    }\n",
              "\n",
              "    .dataframe thead th {\n",
              "        text-align: right;\n",
              "    }\n",
              "<\/style>\n",
              "<table border=\"1\" class=\"dataframe\">\n",
              "  <thead>\n",
              "    <tr style=\"text-align: right;\">\n",
              "      <th><\/th>\n",
              "      <th>life_exp<\/th>\n",
              "      <th>gdp_per_capita<\/th>\n",
              "      <th>year<\/th>\n",
              "    <\/tr>\n",
              "  <\/thead>\n",
              "  <tbody>\n",
              "    <tr>\n",
              "      <th>56<\/th>\n",
              "      <td>71.868<\/td>\n",
              "      <td>9308.418710<\/td>\n",
              "      <td>1992<\/td>\n",
              "    <\/tr>\n",
              "    <tr>\n",
              "      <th>57<\/th>\n",
              "      <td>73.275<\/td>\n",
              "      <td>10967.281950<\/td>\n",
              "      <td>1997<\/td>\n",
              "    <\/tr>\n",
              "    <tr>\n",
              "      <th>58<\/th>\n",
              "      <td>74.340<\/td>\n",
              "      <td>8797.640716<\/td>\n",
              "      <td>2002<\/td>\n",
              "    <\/tr>\n",
              "    <tr>\n",
              "      <th>59<\/th>\n",
              "      <td>75.320<\/td>\n",
              "      <td>12779.379640<\/td>\n",
              "      <td>2007<\/td>\n",
              "    <\/tr>\n",
              "    <tr>\n",
              "      <th>60<\/th>\n",
              "      <td>69.120<\/td>\n",
              "      <td>10039.595640<\/td>\n",
              "      <td>1952<\/td>\n",
              "    <\/tr>\n",
              "    <tr>\n",
              "      <th>61<\/th>\n",
              "      <td>70.330<\/td>\n",
              "      <td>10949.649590<\/td>\n",
              "      <td>1957<\/td>\n",
              "    <\/tr>\n",
              "    <tr>\n",
              "      <th>62<\/th>\n",
              "      <td>70.930<\/td>\n",
              "      <td>12217.226860<\/td>\n",
              "      <td>1962<\/td>\n",
              "    <\/tr>\n",
              "    <tr>\n",
              "      <th>63<\/th>\n",
              "      <td>71.100<\/td>\n",
              "      <td>14526.124650<\/td>\n",
              "      <td>1967<\/td>\n",
              "    <\/tr>\n",
              "    <tr>\n",
              "      <th>64<\/th>\n",
              "      <td>71.930<\/td>\n",
              "      <td>16788.629480<\/td>\n",
              "      <td>1972<\/td>\n",
              "    <\/tr>\n",
              "    <tr>\n",
              "      <th>65<\/th>\n",
              "      <td>73.490<\/td>\n",
              "      <td>18334.197510<\/td>\n",
              "      <td>1977<\/td>\n",
              "    <\/tr>\n",
              "    <tr>\n",
              "      <th>66<\/th>\n",
              "      <td>74.740<\/td>\n",
              "      <td>19477.009280<\/td>\n",
              "      <td>1982<\/td>\n",
              "    <\/tr>\n",
              "    <tr>\n",
              "      <th>67<\/th>\n",
              "      <td>76.320<\/td>\n",
              "      <td>21888.889030<\/td>\n",
              "      <td>1987<\/td>\n",
              "    <\/tr>\n",
              "    <tr>\n",
              "      <th>68<\/th>\n",
              "      <td>77.560<\/td>\n",
              "      <td>23424.766830<\/td>\n",
              "      <td>1992<\/td>\n",
              "    <\/tr>\n",
              "    <tr>\n",
              "      <th>69<\/th>\n",
              "      <td>78.830<\/td>\n",
              "      <td>26997.936570<\/td>\n",
              "      <td>1997<\/td>\n",
              "    <\/tr>\n",
              "    <tr>\n",
              "      <th>70<\/th>\n",
              "      <td>80.370<\/td>\n",
              "      <td>30687.754730<\/td>\n",
              "      <td>2002<\/td>\n",
              "    <\/tr>\n",
              "    <tr>\n",
              "      <th>71<\/th>\n",
              "      <td>81.235<\/td>\n",
              "      <td>34435.367440<\/td>\n",
              "      <td>2007<\/td>\n",
              "    <\/tr>\n",
              "    <tr>\n",
              "      <th>72<\/th>\n",
              "      <td>66.800<\/td>\n",
              "      <td>6137.076492<\/td>\n",
              "      <td>1952<\/td>\n",
              "    <\/tr>\n",
              "    <tr>\n",
              "      <th>73<\/th>\n",
              "      <td>67.480<\/td>\n",
              "      <td>8842.598030<\/td>\n",
              "      <td>1957<\/td>\n",
              "    <\/tr>\n",
              "    <tr>\n",
              "      <th>74<\/th>\n",
              "      <td>69.540<\/td>\n",
              "      <td>10750.721110<\/td>\n",
              "      <td>1962<\/td>\n",
              "    <\/tr>\n",
              "    <tr>\n",
              "      <th>75<\/th>\n",
              "      <td>70.140<\/td>\n",
              "      <td>12834.602400<\/td>\n",
              "      <td>1967<\/td>\n",
              "    <\/tr>\n",
              "    <tr>\n",
              "      <th>76<\/th>\n",
              "      <td>70.630<\/td>\n",
              "      <td>16661.625600<\/td>\n",
              "      <td>1972<\/td>\n",
              "    <\/tr>\n",
              "    <tr>\n",
              "      <th>77<\/th>\n",
              "      <td>72.170<\/td>\n",
              "      <td>19749.422300<\/td>\n",
              "      <td>1977<\/td>\n",
              "    <\/tr>\n",
              "    <tr>\n",
              "      <th>78<\/th>\n",
              "      <td>73.180<\/td>\n",
              "      <td>21597.083620<\/td>\n",
              "      <td>1982<\/td>\n",
              "    <\/tr>\n",
              "  <\/tbody>\n",
              "<\/table>\n",
              "<\/div>"
            ]
          },
          "metadata":{
            
          },
          "output_type":"display_data"
        }
      ],
      "metadata":{
        
      }
    },
    {
      "cell_type":"code",
      "source":[
        "small_set = list(range(0,6,2))\n",
        "small_set"
      ],
      "execution_count":0,
      "outputs":[
        {
          "data":{
            "text\/plain":[
              "[0, 2, 4]"
            ]
          },
          "metadata":{
            
          },
          "output_type":"display_data"
        }
      ],
      "metadata":{
        
      }
    },
    {
      "cell_type":"code",
      "source":[
        "subet = df.iloc[small_set,small_set]"
      ],
      "execution_count":0,
      "outputs":[
        
      ],
      "metadata":{
        
      }
    },
    {
      "cell_type":"code",
      "source":[
        "subet"
      ],
      "execution_count":0,
      "outputs":[
        {
          "data":{
            "text\/html":[
              "<div>\n",
              "<style scoped>\n",
              "    .dataframe tbody tr th:only-of-type {\n",
              "        vertical-align: middle;\n",
              "    }\n",
              "\n",
              "    .dataframe tbody tr th {\n",
              "        vertical-align: top;\n",
              "    }\n",
              "\n",
              "    .dataframe thead th {\n",
              "        text-align: right;\n",
              "    }\n",
              "<\/style>\n",
              "<table border=\"1\" class=\"dataframe\">\n",
              "  <thead>\n",
              "    <tr style=\"text-align: right;\">\n",
              "      <th><\/th>\n",
              "      <th>country<\/th>\n",
              "      <th>year<\/th>\n",
              "      <th>population<\/th>\n",
              "    <\/tr>\n",
              "  <\/thead>\n",
              "  <tbody>\n",
              "    <tr>\n",
              "      <th>0<\/th>\n",
              "      <td>Afghanistan<\/td>\n",
              "      <td>1952<\/td>\n",
              "      <td>8425333<\/td>\n",
              "    <\/tr>\n",
              "    <tr>\n",
              "      <th>2<\/th>\n",
              "      <td>Afghanistan<\/td>\n",
              "      <td>1962<\/td>\n",
              "      <td>10267083<\/td>\n",
              "    <\/tr>\n",
              "    <tr>\n",
              "      <th>4<\/th>\n",
              "      <td>Afghanistan<\/td>\n",
              "      <td>1972<\/td>\n",
              "      <td>13079460<\/td>\n",
              "    <\/tr>\n",
              "  <\/tbody>\n",
              "<\/table>\n",
              "<\/div>"
            ]
          },
          "metadata":{
            
          },
          "output_type":"display_data"
        }
      ],
      "metadata":{
        
      }
    },
    {
      "cell_type":"code",
      "source":[
        "df.iloc[:,0:6:2]"
      ],
      "execution_count":0,
      "outputs":[
        {
          "data":{
            "text\/html":[
              "<div>\n",
              "<style scoped>\n",
              "    .dataframe tbody tr th:only-of-type {\n",
              "        vertical-align: middle;\n",
              "    }\n",
              "\n",
              "    .dataframe tbody tr th {\n",
              "        vertical-align: top;\n",
              "    }\n",
              "\n",
              "    .dataframe thead th {\n",
              "        text-align: right;\n",
              "    }\n",
              "<\/style>\n",
              "<table border=\"1\" class=\"dataframe\">\n",
              "  <thead>\n",
              "    <tr style=\"text-align: right;\">\n",
              "      <th><\/th>\n",
              "      <th>country<\/th>\n",
              "      <th>year<\/th>\n",
              "      <th>population<\/th>\n",
              "    <\/tr>\n",
              "  <\/thead>\n",
              "  <tbody>\n",
              "    <tr>\n",
              "      <th>0<\/th>\n",
              "      <td>Afghanistan<\/td>\n",
              "      <td>1952<\/td>\n",
              "      <td>8425333<\/td>\n",
              "    <\/tr>\n",
              "    <tr>\n",
              "      <th>1<\/th>\n",
              "      <td>Afghanistan<\/td>\n",
              "      <td>1957<\/td>\n",
              "      <td>9240934<\/td>\n",
              "    <\/tr>\n",
              "    <tr>\n",
              "      <th>2<\/th>\n",
              "      <td>Afghanistan<\/td>\n",
              "      <td>1962<\/td>\n",
              "      <td>10267083<\/td>\n",
              "    <\/tr>\n",
              "    <tr>\n",
              "      <th>3<\/th>\n",
              "      <td>Afghanistan<\/td>\n",
              "      <td>1967<\/td>\n",
              "      <td>11537966<\/td>\n",
              "    <\/tr>\n",
              "    <tr>\n",
              "      <th>4<\/th>\n",
              "      <td>Afghanistan<\/td>\n",
              "      <td>1972<\/td>\n",
              "      <td>13079460<\/td>\n",
              "    <\/tr>\n",
              "    <tr>\n",
              "      <th>...<\/th>\n",
              "      <td>...<\/td>\n",
              "      <td>...<\/td>\n",
              "      <td>...<\/td>\n",
              "    <\/tr>\n",
              "    <tr>\n",
              "      <th>1699<\/th>\n",
              "      <td>Zimbabwe<\/td>\n",
              "      <td>1987<\/td>\n",
              "      <td>9216418<\/td>\n",
              "    <\/tr>\n",
              "    <tr>\n",
              "      <th>1700<\/th>\n",
              "      <td>Zimbabwe<\/td>\n",
              "      <td>1992<\/td>\n",
              "      <td>10704340<\/td>\n",
              "    <\/tr>\n",
              "    <tr>\n",
              "      <th>1701<\/th>\n",
              "      <td>Zimbabwe<\/td>\n",
              "      <td>1997<\/td>\n",
              "      <td>11404948<\/td>\n",
              "    <\/tr>\n",
              "    <tr>\n",
              "      <th>1702<\/th>\n",
              "      <td>Zimbabwe<\/td>\n",
              "      <td>2002<\/td>\n",
              "      <td>11926563<\/td>\n",
              "    <\/tr>\n",
              "    <tr>\n",
              "      <th>1703<\/th>\n",
              "      <td>Zimbabwe<\/td>\n",
              "      <td>2007<\/td>\n",
              "      <td>12311143<\/td>\n",
              "    <\/tr>\n",
              "  <\/tbody>\n",
              "<\/table>\n",
              "<p>1704 rows × 3 columns<\/p>\n",
              "<\/div>"
            ]
          },
          "metadata":{
            
          },
          "output_type":"display_data"
        }
      ],
      "metadata":{
        
      }
    },
    {
      "cell_type":"code",
      "source":[
        "df.iloc[:,0::2]"
      ],
      "execution_count":0,
      "outputs":[
        {
          "data":{
            "text\/html":[
              "<div>\n",
              "<style scoped>\n",
              "    .dataframe tbody tr th:only-of-type {\n",
              "        vertical-align: middle;\n",
              "    }\n",
              "\n",
              "    .dataframe tbody tr th {\n",
              "        vertical-align: top;\n",
              "    }\n",
              "\n",
              "    .dataframe thead th {\n",
              "        text-align: right;\n",
              "    }\n",
              "<\/style>\n",
              "<table border=\"1\" class=\"dataframe\">\n",
              "  <thead>\n",
              "    <tr style=\"text-align: right;\">\n",
              "      <th><\/th>\n",
              "      <th>country<\/th>\n",
              "      <th>year<\/th>\n",
              "      <th>population<\/th>\n",
              "    <\/tr>\n",
              "  <\/thead>\n",
              "  <tbody>\n",
              "    <tr>\n",
              "      <th>0<\/th>\n",
              "      <td>Afghanistan<\/td>\n",
              "      <td>1952<\/td>\n",
              "      <td>8425333<\/td>\n",
              "    <\/tr>\n",
              "    <tr>\n",
              "      <th>1<\/th>\n",
              "      <td>Afghanistan<\/td>\n",
              "      <td>1957<\/td>\n",
              "      <td>9240934<\/td>\n",
              "    <\/tr>\n",
              "    <tr>\n",
              "      <th>2<\/th>\n",
              "      <td>Afghanistan<\/td>\n",
              "      <td>1962<\/td>\n",
              "      <td>10267083<\/td>\n",
              "    <\/tr>\n",
              "    <tr>\n",
              "      <th>3<\/th>\n",
              "      <td>Afghanistan<\/td>\n",
              "      <td>1967<\/td>\n",
              "      <td>11537966<\/td>\n",
              "    <\/tr>\n",
              "    <tr>\n",
              "      <th>4<\/th>\n",
              "      <td>Afghanistan<\/td>\n",
              "      <td>1972<\/td>\n",
              "      <td>13079460<\/td>\n",
              "    <\/tr>\n",
              "    <tr>\n",
              "      <th>...<\/th>\n",
              "      <td>...<\/td>\n",
              "      <td>...<\/td>\n",
              "      <td>...<\/td>\n",
              "    <\/tr>\n",
              "    <tr>\n",
              "      <th>1699<\/th>\n",
              "      <td>Zimbabwe<\/td>\n",
              "      <td>1987<\/td>\n",
              "      <td>9216418<\/td>\n",
              "    <\/tr>\n",
              "    <tr>\n",
              "      <th>1700<\/th>\n",
              "      <td>Zimbabwe<\/td>\n",
              "      <td>1992<\/td>\n",
              "      <td>10704340<\/td>\n",
              "    <\/tr>\n",
              "    <tr>\n",
              "      <th>1701<\/th>\n",
              "      <td>Zimbabwe<\/td>\n",
              "      <td>1997<\/td>\n",
              "      <td>11404948<\/td>\n",
              "    <\/tr>\n",
              "    <tr>\n",
              "      <th>1702<\/th>\n",
              "      <td>Zimbabwe<\/td>\n",
              "      <td>2002<\/td>\n",
              "      <td>11926563<\/td>\n",
              "    <\/tr>\n",
              "    <tr>\n",
              "      <th>1703<\/th>\n",
              "      <td>Zimbabwe<\/td>\n",
              "      <td>2007<\/td>\n",
              "      <td>12311143<\/td>\n",
              "    <\/tr>\n",
              "  <\/tbody>\n",
              "<\/table>\n",
              "<p>1704 rows × 3 columns<\/p>\n",
              "<\/div>"
            ]
          },
          "metadata":{
            
          },
          "output_type":"display_data"
        }
      ],
      "metadata":{
        
      }
    },
    {
      "cell_type":"code",
      "source":[
        "df.iloc[:,:6:2]"
      ],
      "execution_count":0,
      "outputs":[
        {
          "data":{
            "text\/html":[
              "<div>\n",
              "<style scoped>\n",
              "    .dataframe tbody tr th:only-of-type {\n",
              "        vertical-align: middle;\n",
              "    }\n",
              "\n",
              "    .dataframe tbody tr th {\n",
              "        vertical-align: top;\n",
              "    }\n",
              "\n",
              "    .dataframe thead th {\n",
              "        text-align: right;\n",
              "    }\n",
              "<\/style>\n",
              "<table border=\"1\" class=\"dataframe\">\n",
              "  <thead>\n",
              "    <tr style=\"text-align: right;\">\n",
              "      <th><\/th>\n",
              "      <th>country<\/th>\n",
              "      <th>year<\/th>\n",
              "      <th>population<\/th>\n",
              "    <\/tr>\n",
              "  <\/thead>\n",
              "  <tbody>\n",
              "    <tr>\n",
              "      <th>0<\/th>\n",
              "      <td>Afghanistan<\/td>\n",
              "      <td>1952<\/td>\n",
              "      <td>8425333<\/td>\n",
              "    <\/tr>\n",
              "    <tr>\n",
              "      <th>1<\/th>\n",
              "      <td>Afghanistan<\/td>\n",
              "      <td>1957<\/td>\n",
              "      <td>9240934<\/td>\n",
              "    <\/tr>\n",
              "    <tr>\n",
              "      <th>2<\/th>\n",
              "      <td>Afghanistan<\/td>\n",
              "      <td>1962<\/td>\n",
              "      <td>10267083<\/td>\n",
              "    <\/tr>\n",
              "    <tr>\n",
              "      <th>3<\/th>\n",
              "      <td>Afghanistan<\/td>\n",
              "      <td>1967<\/td>\n",
              "      <td>11537966<\/td>\n",
              "    <\/tr>\n",
              "    <tr>\n",
              "      <th>4<\/th>\n",
              "      <td>Afghanistan<\/td>\n",
              "      <td>1972<\/td>\n",
              "      <td>13079460<\/td>\n",
              "    <\/tr>\n",
              "    <tr>\n",
              "      <th>...<\/th>\n",
              "      <td>...<\/td>\n",
              "      <td>...<\/td>\n",
              "      <td>...<\/td>\n",
              "    <\/tr>\n",
              "    <tr>\n",
              "      <th>1699<\/th>\n",
              "      <td>Zimbabwe<\/td>\n",
              "      <td>1987<\/td>\n",
              "      <td>9216418<\/td>\n",
              "    <\/tr>\n",
              "    <tr>\n",
              "      <th>1700<\/th>\n",
              "      <td>Zimbabwe<\/td>\n",
              "      <td>1992<\/td>\n",
              "      <td>10704340<\/td>\n",
              "    <\/tr>\n",
              "    <tr>\n",
              "      <th>1701<\/th>\n",
              "      <td>Zimbabwe<\/td>\n",
              "      <td>1997<\/td>\n",
              "      <td>11404948<\/td>\n",
              "    <\/tr>\n",
              "    <tr>\n",
              "      <th>1702<\/th>\n",
              "      <td>Zimbabwe<\/td>\n",
              "      <td>2002<\/td>\n",
              "      <td>11926563<\/td>\n",
              "    <\/tr>\n",
              "    <tr>\n",
              "      <th>1703<\/th>\n",
              "      <td>Zimbabwe<\/td>\n",
              "      <td>2007<\/td>\n",
              "      <td>12311143<\/td>\n",
              "    <\/tr>\n",
              "  <\/tbody>\n",
              "<\/table>\n",
              "<p>1704 rows × 3 columns<\/p>\n",
              "<\/div>"
            ]
          },
          "metadata":{
            
          },
          "output_type":"display_data"
        }
      ],
      "metadata":{
        
      }
    },
    {
      "cell_type":"code",
      "source":[
        "df.iloc[:,::2]"
      ],
      "execution_count":0,
      "outputs":[
        {
          "data":{
            "text\/html":[
              "<div>\n",
              "<style scoped>\n",
              "    .dataframe tbody tr th:only-of-type {\n",
              "        vertical-align: middle;\n",
              "    }\n",
              "\n",
              "    .dataframe tbody tr th {\n",
              "        vertical-align: top;\n",
              "    }\n",
              "\n",
              "    .dataframe thead th {\n",
              "        text-align: right;\n",
              "    }\n",
              "<\/style>\n",
              "<table border=\"1\" class=\"dataframe\">\n",
              "  <thead>\n",
              "    <tr style=\"text-align: right;\">\n",
              "      <th><\/th>\n",
              "      <th>country<\/th>\n",
              "      <th>year<\/th>\n",
              "      <th>population<\/th>\n",
              "    <\/tr>\n",
              "  <\/thead>\n",
              "  <tbody>\n",
              "    <tr>\n",
              "      <th>0<\/th>\n",
              "      <td>Afghanistan<\/td>\n",
              "      <td>1952<\/td>\n",
              "      <td>8425333<\/td>\n",
              "    <\/tr>\n",
              "    <tr>\n",
              "      <th>1<\/th>\n",
              "      <td>Afghanistan<\/td>\n",
              "      <td>1957<\/td>\n",
              "      <td>9240934<\/td>\n",
              "    <\/tr>\n",
              "    <tr>\n",
              "      <th>2<\/th>\n",
              "      <td>Afghanistan<\/td>\n",
              "      <td>1962<\/td>\n",
              "      <td>10267083<\/td>\n",
              "    <\/tr>\n",
              "    <tr>\n",
              "      <th>3<\/th>\n",
              "      <td>Afghanistan<\/td>\n",
              "      <td>1967<\/td>\n",
              "      <td>11537966<\/td>\n",
              "    <\/tr>\n",
              "    <tr>\n",
              "      <th>4<\/th>\n",
              "      <td>Afghanistan<\/td>\n",
              "      <td>1972<\/td>\n",
              "      <td>13079460<\/td>\n",
              "    <\/tr>\n",
              "    <tr>\n",
              "      <th>...<\/th>\n",
              "      <td>...<\/td>\n",
              "      <td>...<\/td>\n",
              "      <td>...<\/td>\n",
              "    <\/tr>\n",
              "    <tr>\n",
              "      <th>1699<\/th>\n",
              "      <td>Zimbabwe<\/td>\n",
              "      <td>1987<\/td>\n",
              "      <td>9216418<\/td>\n",
              "    <\/tr>\n",
              "    <tr>\n",
              "      <th>1700<\/th>\n",
              "      <td>Zimbabwe<\/td>\n",
              "      <td>1992<\/td>\n",
              "      <td>10704340<\/td>\n",
              "    <\/tr>\n",
              "    <tr>\n",
              "      <th>1701<\/th>\n",
              "      <td>Zimbabwe<\/td>\n",
              "      <td>1997<\/td>\n",
              "      <td>11404948<\/td>\n",
              "    <\/tr>\n",
              "    <tr>\n",
              "      <th>1702<\/th>\n",
              "      <td>Zimbabwe<\/td>\n",
              "      <td>2002<\/td>\n",
              "      <td>11926563<\/td>\n",
              "    <\/tr>\n",
              "    <tr>\n",
              "      <th>1703<\/th>\n",
              "      <td>Zimbabwe<\/td>\n",
              "      <td>2007<\/td>\n",
              "      <td>12311143<\/td>\n",
              "    <\/tr>\n",
              "  <\/tbody>\n",
              "<\/table>\n",
              "<p>1704 rows × 3 columns<\/p>\n",
              "<\/div>"
            ]
          },
          "metadata":{
            
          },
          "output_type":"display_data"
        }
      ],
      "metadata":{
        
      }
    },
    {
      "cell_type":"code",
      "source":[
        "df.iloc[::2,::]"
      ],
      "execution_count":0,
      "outputs":[
        {
          "data":{
            "text\/html":[
              "<div>\n",
              "<style scoped>\n",
              "    .dataframe tbody tr th:only-of-type {\n",
              "        vertical-align: middle;\n",
              "    }\n",
              "\n",
              "    .dataframe tbody tr th {\n",
              "        vertical-align: top;\n",
              "    }\n",
              "\n",
              "    .dataframe thead th {\n",
              "        text-align: right;\n",
              "    }\n",
              "<\/style>\n",
              "<table border=\"1\" class=\"dataframe\">\n",
              "  <thead>\n",
              "    <tr style=\"text-align: right;\">\n",
              "      <th><\/th>\n",
              "      <th>country<\/th>\n",
              "      <th>continent<\/th>\n",
              "      <th>year<\/th>\n",
              "      <th>life_exp<\/th>\n",
              "      <th>population<\/th>\n",
              "      <th>gdp_per_capita<\/th>\n",
              "    <\/tr>\n",
              "  <\/thead>\n",
              "  <tbody>\n",
              "    <tr>\n",
              "      <th>0<\/th>\n",
              "      <td>Afghanistan<\/td>\n",
              "      <td>Asia<\/td>\n",
              "      <td>1952<\/td>\n",
              "      <td>28.801<\/td>\n",
              "      <td>8425333<\/td>\n",
              "      <td>779.445314<\/td>\n",
              "    <\/tr>\n",
              "    <tr>\n",
              "      <th>2<\/th>\n",
              "      <td>Afghanistan<\/td>\n",
              "      <td>Asia<\/td>\n",
              "      <td>1962<\/td>\n",
              "      <td>31.997<\/td>\n",
              "      <td>10267083<\/td>\n",
              "      <td>853.100710<\/td>\n",
              "    <\/tr>\n",
              "    <tr>\n",
              "      <th>4<\/th>\n",
              "      <td>Afghanistan<\/td>\n",
              "      <td>Asia<\/td>\n",
              "      <td>1972<\/td>\n",
              "      <td>36.088<\/td>\n",
              "      <td>13079460<\/td>\n",
              "      <td>739.981106<\/td>\n",
              "    <\/tr>\n",
              "    <tr>\n",
              "      <th>6<\/th>\n",
              "      <td>Afghanistan<\/td>\n",
              "      <td>Asia<\/td>\n",
              "      <td>1982<\/td>\n",
              "      <td>39.854<\/td>\n",
              "      <td>12881816<\/td>\n",
              "      <td>978.011439<\/td>\n",
              "    <\/tr>\n",
              "    <tr>\n",
              "      <th>8<\/th>\n",
              "      <td>Afghanistan<\/td>\n",
              "      <td>Asia<\/td>\n",
              "      <td>1992<\/td>\n",
              "      <td>41.674<\/td>\n",
              "      <td>16317921<\/td>\n",
              "      <td>649.341395<\/td>\n",
              "    <\/tr>\n",
              "    <tr>\n",
              "      <th>...<\/th>\n",
              "      <td>...<\/td>\n",
              "      <td>...<\/td>\n",
              "      <td>...<\/td>\n",
              "      <td>...<\/td>\n",
              "      <td>...<\/td>\n",
              "      <td>...<\/td>\n",
              "    <\/tr>\n",
              "    <tr>\n",
              "      <th>1694<\/th>\n",
              "      <td>Zimbabwe<\/td>\n",
              "      <td>Africa<\/td>\n",
              "      <td>1962<\/td>\n",
              "      <td>52.358<\/td>\n",
              "      <td>4277736<\/td>\n",
              "      <td>527.272182<\/td>\n",
              "    <\/tr>\n",
              "    <tr>\n",
              "      <th>1696<\/th>\n",
              "      <td>Zimbabwe<\/td>\n",
              "      <td>Africa<\/td>\n",
              "      <td>1972<\/td>\n",
              "      <td>55.635<\/td>\n",
              "      <td>5861135<\/td>\n",
              "      <td>799.362176<\/td>\n",
              "    <\/tr>\n",
              "    <tr>\n",
              "      <th>1698<\/th>\n",
              "      <td>Zimbabwe<\/td>\n",
              "      <td>Africa<\/td>\n",
              "      <td>1982<\/td>\n",
              "      <td>60.363<\/td>\n",
              "      <td>7636524<\/td>\n",
              "      <td>788.855041<\/td>\n",
              "    <\/tr>\n",
              "    <tr>\n",
              "      <th>1700<\/th>\n",
              "      <td>Zimbabwe<\/td>\n",
              "      <td>Africa<\/td>\n",
              "      <td>1992<\/td>\n",
              "      <td>60.377<\/td>\n",
              "      <td>10704340<\/td>\n",
              "      <td>693.420786<\/td>\n",
              "    <\/tr>\n",
              "    <tr>\n",
              "      <th>1702<\/th>\n",
              "      <td>Zimbabwe<\/td>\n",
              "      <td>Africa<\/td>\n",
              "      <td>2002<\/td>\n",
              "      <td>39.989<\/td>\n",
              "      <td>11926563<\/td>\n",
              "      <td>672.038623<\/td>\n",
              "    <\/tr>\n",
              "  <\/tbody>\n",
              "<\/table>\n",
              "<p>852 rows × 6 columns<\/p>\n",
              "<\/div>"
            ]
          },
          "metadata":{
            
          },
          "output_type":"display_data"
        }
      ],
      "metadata":{
        
      }
    },
    {
      "cell_type":"code",
      "source":[
        "df.iloc[[1,100,1000,1100,1240],[0,3,5]]"
      ],
      "execution_count":0,
      "outputs":[
        {
          "data":{
            "text\/html":[
              "<div>\n",
              "<style scoped>\n",
              "    .dataframe tbody tr th:only-of-type {\n",
              "        vertical-align: middle;\n",
              "    }\n",
              "\n",
              "    .dataframe tbody tr th {\n",
              "        vertical-align: top;\n",
              "    }\n",
              "\n",
              "    .dataframe thead th {\n",
              "        text-align: right;\n",
              "    }\n",
              "<\/style>\n",
              "<table border=\"1\" class=\"dataframe\">\n",
              "  <thead>\n",
              "    <tr style=\"text-align: right;\">\n",
              "      <th><\/th>\n",
              "      <th>country<\/th>\n",
              "      <th>life_exp<\/th>\n",
              "      <th>gdp_per_capita<\/th>\n",
              "    <\/tr>\n",
              "  <\/thead>\n",
              "  <tbody>\n",
              "    <tr>\n",
              "      <th>1<\/th>\n",
              "      <td>Afghanistan<\/td>\n",
              "      <td>30.332<\/td>\n",
              "      <td>820.853030<\/td>\n",
              "    <\/tr>\n",
              "    <tr>\n",
              "      <th>100<\/th>\n",
              "      <td>Bangladesh<\/td>\n",
              "      <td>45.252<\/td>\n",
              "      <td>630.233627<\/td>\n",
              "    <\/tr>\n",
              "    <tr>\n",
              "      <th>1000<\/th>\n",
              "      <td>Mongolia<\/td>\n",
              "      <td>53.754<\/td>\n",
              "      <td>1421.741975<\/td>\n",
              "    <\/tr>\n",
              "    <tr>\n",
              "      <th>1100<\/th>\n",
              "      <td>New Zealand<\/td>\n",
              "      <td>76.330<\/td>\n",
              "      <td>18363.324940<\/td>\n",
              "    <\/tr>\n",
              "    <tr>\n",
              "      <th>1240<\/th>\n",
              "      <td>Portugal<\/td>\n",
              "      <td>69.260<\/td>\n",
              "      <td>9022.247417<\/td>\n",
              "    <\/tr>\n",
              "  <\/tbody>\n",
              "<\/table>\n",
              "<\/div>"
            ]
          },
          "metadata":{
            
          },
          "output_type":"display_data"
        }
      ],
      "metadata":{
        
      }
    },
    {
      "cell_type":"code",
      "source":[
        "df.loc[[12,34,567,23,4,253,1231],['year','country','gdp_per_capita']]"
      ],
      "execution_count":0,
      "outputs":[
        {
          "data":{
            "text\/html":[
              "<div>\n",
              "<style scoped>\n",
              "    .dataframe tbody tr th:only-of-type {\n",
              "        vertical-align: middle;\n",
              "    }\n",
              "\n",
              "    .dataframe tbody tr th {\n",
              "        vertical-align: top;\n",
              "    }\n",
              "\n",
              "    .dataframe thead th {\n",
              "        text-align: right;\n",
              "    }\n",
              "<\/style>\n",
              "<table border=\"1\" class=\"dataframe\">\n",
              "  <thead>\n",
              "    <tr style=\"text-align: right;\">\n",
              "      <th><\/th>\n",
              "      <th>year<\/th>\n",
              "      <th>country<\/th>\n",
              "      <th>gdp_per_capita<\/th>\n",
              "    <\/tr>\n",
              "  <\/thead>\n",
              "  <tbody>\n",
              "    <tr>\n",
              "      <th>12<\/th>\n",
              "      <td>1952<\/td>\n",
              "      <td>Albania<\/td>\n",
              "      <td>1601.056136<\/td>\n",
              "    <\/tr>\n",
              "    <tr>\n",
              "      <th>34<\/th>\n",
              "      <td>2002<\/td>\n",
              "      <td>Algeria<\/td>\n",
              "      <td>5288.040382<\/td>\n",
              "    <\/tr>\n",
              "    <tr>\n",
              "      <th>567<\/th>\n",
              "      <td>1967<\/td>\n",
              "      <td>Germany<\/td>\n",
              "      <td>14745.625610<\/td>\n",
              "    <\/tr>\n",
              "    <tr>\n",
              "      <th>23<\/th>\n",
              "      <td>2007<\/td>\n",
              "      <td>Albania<\/td>\n",
              "      <td>5937.029526<\/td>\n",
              "    <\/tr>\n",
              "    <tr>\n",
              "      <th>4<\/th>\n",
              "      <td>1972<\/td>\n",
              "      <td>Afghanistan<\/td>\n",
              "      <td>739.981106<\/td>\n",
              "    <\/tr>\n",
              "    <tr>\n",
              "      <th>253<\/th>\n",
              "      <td>1957<\/td>\n",
              "      <td>Central African Republic<\/td>\n",
              "      <td>1190.844328<\/td>\n",
              "    <\/tr>\n",
              "    <tr>\n",
              "      <th>1231<\/th>\n",
              "      <td>1987<\/td>\n",
              "      <td>Poland<\/td>\n",
              "      <td>9082.351172<\/td>\n",
              "    <\/tr>\n",
              "  <\/tbody>\n",
              "<\/table>\n",
              "<\/div>"
            ]
          },
          "metadata":{
            
          },
          "output_type":"display_data"
        }
      ],
      "metadata":{
        
      }
    },
    {
      "cell_type":"code",
      "source":[
        "df.sample(23)"
      ],
      "execution_count":0,
      "outputs":[
        {
          "data":{
            "text\/html":[
              "<div>\n",
              "<style scoped>\n",
              "    .dataframe tbody tr th:only-of-type {\n",
              "        vertical-align: middle;\n",
              "    }\n",
              "\n",
              "    .dataframe tbody tr th {\n",
              "        vertical-align: top;\n",
              "    }\n",
              "\n",
              "    .dataframe thead th {\n",
              "        text-align: right;\n",
              "    }\n",
              "<\/style>\n",
              "<table border=\"1\" class=\"dataframe\">\n",
              "  <thead>\n",
              "    <tr style=\"text-align: right;\">\n",
              "      <th><\/th>\n",
              "      <th>country<\/th>\n",
              "      <th>continent<\/th>\n",
              "      <th>year<\/th>\n",
              "      <th>life_exp<\/th>\n",
              "      <th>population<\/th>\n",
              "      <th>gdp_per_capita<\/th>\n",
              "    <\/tr>\n",
              "  <\/thead>\n",
              "  <tbody>\n",
              "    <tr>\n",
              "      <th>141<\/th>\n",
              "      <td>Bolivia<\/td>\n",
              "      <td>Americas<\/td>\n",
              "      <td>1997<\/td>\n",
              "      <td>62.050<\/td>\n",
              "      <td>7693188<\/td>\n",
              "      <td>3326.143191<\/td>\n",
              "    <\/tr>\n",
              "    <tr>\n",
              "      <th>1529<\/th>\n",
              "      <td>Thailand<\/td>\n",
              "      <td>Asia<\/td>\n",
              "      <td>1977<\/td>\n",
              "      <td>62.494<\/td>\n",
              "      <td>44148285<\/td>\n",
              "      <td>1961.224635<\/td>\n",
              "    <\/tr>\n",
              "    <tr>\n",
              "      <th>1013<\/th>\n",
              "      <td>Montenegro<\/td>\n",
              "      <td>Europe<\/td>\n",
              "      <td>1977<\/td>\n",
              "      <td>73.066<\/td>\n",
              "      <td>560073<\/td>\n",
              "      <td>9595.929905<\/td>\n",
              "    <\/tr>\n",
              "    <tr>\n",
              "      <th>365<\/th>\n",
              "      <td>Cote d'Ivoire<\/td>\n",
              "      <td>Africa<\/td>\n",
              "      <td>1977<\/td>\n",
              "      <td>52.374<\/td>\n",
              "      <td>7459574<\/td>\n",
              "      <td>2517.736547<\/td>\n",
              "    <\/tr>\n",
              "    <tr>\n",
              "      <th>1124<\/th>\n",
              "      <td>Niger<\/td>\n",
              "      <td>Africa<\/td>\n",
              "      <td>1992<\/td>\n",
              "      <td>47.391<\/td>\n",
              "      <td>8392818<\/td>\n",
              "      <td>581.182725<\/td>\n",
              "    <\/tr>\n",
              "    <tr>\n",
              "      <th>1147<\/th>\n",
              "      <td>Norway<\/td>\n",
              "      <td>Europe<\/td>\n",
              "      <td>1987<\/td>\n",
              "      <td>75.890<\/td>\n",
              "      <td>4186147<\/td>\n",
              "      <td>31540.974800<\/td>\n",
              "    <\/tr>\n",
              "    <tr>\n",
              "      <th>1011<\/th>\n",
              "      <td>Montenegro<\/td>\n",
              "      <td>Europe<\/td>\n",
              "      <td>1967<\/td>\n",
              "      <td>67.178<\/td>\n",
              "      <td>501035<\/td>\n",
              "      <td>5907.850937<\/td>\n",
              "    <\/tr>\n",
              "    <tr>\n",
              "      <th>160<\/th>\n",
              "      <td>Botswana<\/td>\n",
              "      <td>Africa<\/td>\n",
              "      <td>1972<\/td>\n",
              "      <td>56.024<\/td>\n",
              "      <td>619351<\/td>\n",
              "      <td>2263.611114<\/td>\n",
              "    <\/tr>\n",
              "    <tr>\n",
              "      <th>1531<\/th>\n",
              "      <td>Thailand<\/td>\n",
              "      <td>Asia<\/td>\n",
              "      <td>1987<\/td>\n",
              "      <td>66.084<\/td>\n",
              "      <td>52910342<\/td>\n",
              "      <td>2982.653773<\/td>\n",
              "    <\/tr>\n",
              "    <tr>\n",
              "      <th>793<\/th>\n",
              "      <td>Japan<\/td>\n",
              "      <td>Asia<\/td>\n",
              "      <td>1957<\/td>\n",
              "      <td>65.500<\/td>\n",
              "      <td>91563009<\/td>\n",
              "      <td>4317.694365<\/td>\n",
              "    <\/tr>\n",
              "    <tr>\n",
              "      <th>1458<\/th>\n",
              "      <td>Swaziland<\/td>\n",
              "      <td>Africa<\/td>\n",
              "      <td>1982<\/td>\n",
              "      <td>55.561<\/td>\n",
              "      <td>649901<\/td>\n",
              "      <td>3895.384018<\/td>\n",
              "    <\/tr>\n",
              "    <tr>\n",
              "      <th>1064<\/th>\n",
              "      <td>Namibia<\/td>\n",
              "      <td>Africa<\/td>\n",
              "      <td>1992<\/td>\n",
              "      <td>61.999<\/td>\n",
              "      <td>1554253<\/td>\n",
              "      <td>3804.537999<\/td>\n",
              "    <\/tr>\n",
              "    <tr>\n",
              "      <th>769<\/th>\n",
              "      <td>Italy<\/td>\n",
              "      <td>Europe<\/td>\n",
              "      <td>1957<\/td>\n",
              "      <td>67.810<\/td>\n",
              "      <td>49182000<\/td>\n",
              "      <td>6248.656232<\/td>\n",
              "    <\/tr>\n",
              "    <tr>\n",
              "      <th>71<\/th>\n",
              "      <td>Australia<\/td>\n",
              "      <td>Oceania<\/td>\n",
              "      <td>2007<\/td>\n",
              "      <td>81.235<\/td>\n",
              "      <td>20434176<\/td>\n",
              "      <td>34435.367440<\/td>\n",
              "    <\/tr>\n",
              "    <tr>\n",
              "      <th>943<\/th>\n",
              "      <td>Malaysia<\/td>\n",
              "      <td>Asia<\/td>\n",
              "      <td>1987<\/td>\n",
              "      <td>69.500<\/td>\n",
              "      <td>16331785<\/td>\n",
              "      <td>5249.802653<\/td>\n",
              "    <\/tr>\n",
              "    <tr>\n",
              "      <th>273<\/th>\n",
              "      <td>Chad<\/td>\n",
              "      <td>Africa<\/td>\n",
              "      <td>1997<\/td>\n",
              "      <td>51.573<\/td>\n",
              "      <td>7562011<\/td>\n",
              "      <td>1004.961353<\/td>\n",
              "    <\/tr>\n",
              "    <tr>\n",
              "      <th>722<\/th>\n",
              "      <td>Iran<\/td>\n",
              "      <td>Asia<\/td>\n",
              "      <td>1962<\/td>\n",
              "      <td>49.325<\/td>\n",
              "      <td>22874000<\/td>\n",
              "      <td>4187.329802<\/td>\n",
              "    <\/tr>\n",
              "    <tr>\n",
              "      <th>1573<\/th>\n",
              "      <td>Turkey<\/td>\n",
              "      <td>Europe<\/td>\n",
              "      <td>1957<\/td>\n",
              "      <td>48.079<\/td>\n",
              "      <td>25670939<\/td>\n",
              "      <td>2218.754257<\/td>\n",
              "    <\/tr>\n",
              "    <tr>\n",
              "      <th>120<\/th>\n",
              "      <td>Benin<\/td>\n",
              "      <td>Africa<\/td>\n",
              "      <td>1952<\/td>\n",
              "      <td>38.223<\/td>\n",
              "      <td>1738315<\/td>\n",
              "      <td>1062.752200<\/td>\n",
              "    <\/tr>\n",
              "    <tr>\n",
              "      <th>1589<\/th>\n",
              "      <td>Uganda<\/td>\n",
              "      <td>Africa<\/td>\n",
              "      <td>1977<\/td>\n",
              "      <td>50.350<\/td>\n",
              "      <td>11457758<\/td>\n",
              "      <td>843.733137<\/td>\n",
              "    <\/tr>\n",
              "    <tr>\n",
              "      <th>806<\/th>\n",
              "      <td>Jordan<\/td>\n",
              "      <td>Asia<\/td>\n",
              "      <td>1962<\/td>\n",
              "      <td>48.126<\/td>\n",
              "      <td>933559<\/td>\n",
              "      <td>2348.009158<\/td>\n",
              "    <\/tr>\n",
              "    <tr>\n",
              "      <th>1407<\/th>\n",
              "      <td>South Africa<\/td>\n",
              "      <td>Africa<\/td>\n",
              "      <td>1967<\/td>\n",
              "      <td>51.927<\/td>\n",
              "      <td>20997321<\/td>\n",
              "      <td>7114.477971<\/td>\n",
              "    <\/tr>\n",
              "    <tr>\n",
              "      <th>930<\/th>\n",
              "      <td>Malawi<\/td>\n",
              "      <td>Africa<\/td>\n",
              "      <td>1982<\/td>\n",
              "      <td>45.642<\/td>\n",
              "      <td>6502825<\/td>\n",
              "      <td>632.803921<\/td>\n",
              "    <\/tr>\n",
              "  <\/tbody>\n",
              "<\/table>\n",
              "<\/div>"
            ]
          },
          "metadata":{
            
          },
          "output_type":"display_data"
        }
      ],
      "metadata":{
        
      }
    },
    {
      "cell_type":"code",
      "source":[
        "df.groupby('continent')['country'].count()"
      ],
      "execution_count":0,
      "outputs":[
        {
          "data":{
            "text\/plain":[
              "continent\n",
              "Africa      624\n",
              "Americas    300\n",
              "Asia        396\n",
              "Europe      360\n",
              "Oceania      24\n",
              "Name: country, dtype: int64"
            ]
          },
          "metadata":{
            
          },
          "output_type":"display_data"
        }
      ],
      "metadata":{
        
      }
    },
    {
      "cell_type":"code",
      "source":[
        "df.groupby('year')['life_exp'].mean()"
      ],
      "execution_count":0,
      "outputs":[
        {
          "data":{
            "text\/plain":[
              "year\n",
              "1952    49.057620\n",
              "1957    51.507401\n",
              "1962    53.609249\n",
              "1967    55.678290\n",
              "1972    57.647386\n",
              "1977    59.570157\n",
              "1982    61.533197\n",
              "1987    63.212613\n",
              "1992    64.160338\n",
              "1997    65.014676\n",
              "2002    65.694923\n",
              "2007    67.007423\n",
              "Name: life_exp, dtype: float64"
            ]
          },
          "metadata":{
            
          },
          "output_type":"display_data"
        }
      ],
      "metadata":{
        
      }
    },
    {
      "cell_type":"code",
      "source":[
        "grouped_year = df.groupby('year')"
      ],
      "execution_count":0,
      "outputs":[
        
      ],
      "metadata":{
        
      }
    },
    {
      "cell_type":"code",
      "source":[
        "grouped_year_life_exp = grouped_year['life_exp']"
      ],
      "execution_count":0,
      "outputs":[
        
      ],
      "metadata":{
        
      }
    },
    {
      "cell_type":"code",
      "source":[
        "type(grouped_year_life_exp)"
      ],
      "execution_count":0,
      "outputs":[
        {
          "data":{
            "text\/plain":[
              "pandas.core.groupby.generic.SeriesGroupBy"
            ]
          },
          "metadata":{
            
          },
          "output_type":"display_data"
        }
      ],
      "metadata":{
        
      }
    },
    {
      "cell_type":"code",
      "source":[
        "grouped_year_life_exp.mean()"
      ],
      "execution_count":0,
      "outputs":[
        {
          "data":{
            "text\/plain":[
              "year\n",
              "1952    49.057620\n",
              "1957    51.507401\n",
              "1962    53.609249\n",
              "1967    55.678290\n",
              "1972    57.647386\n",
              "1977    59.570157\n",
              "1982    61.533197\n",
              "1987    63.212613\n",
              "1992    64.160338\n",
              "1997    65.014676\n",
              "2002    65.694923\n",
              "2007    67.007423\n",
              "Name: life_exp, dtype: float64"
            ]
          },
          "metadata":{
            
          },
          "output_type":"display_data"
        }
      ],
      "metadata":{
        
      }
    },
    {
      "cell_type":"code",
      "source":[
        "\n",
        "round(df.groupby(['year','continent'])[['life_exp','gdp_per_capita']].mean(),2)"
      ],
      "execution_count":0,
      "outputs":[
        {
          "data":{
            "text\/html":[
              "<div>\n",
              "<style scoped>\n",
              "    .dataframe tbody tr th:only-of-type {\n",
              "        vertical-align: middle;\n",
              "    }\n",
              "\n",
              "    .dataframe tbody tr th {\n",
              "        vertical-align: top;\n",
              "    }\n",
              "\n",
              "    .dataframe thead th {\n",
              "        text-align: right;\n",
              "    }\n",
              "<\/style>\n",
              "<table border=\"1\" class=\"dataframe\">\n",
              "  <thead>\n",
              "    <tr style=\"text-align: right;\">\n",
              "      <th><\/th>\n",
              "      <th><\/th>\n",
              "      <th>life_exp<\/th>\n",
              "      <th>gdp_per_capita<\/th>\n",
              "    <\/tr>\n",
              "    <tr>\n",
              "      <th>year<\/th>\n",
              "      <th>continent<\/th>\n",
              "      <th><\/th>\n",
              "      <th><\/th>\n",
              "    <\/tr>\n",
              "  <\/thead>\n",
              "  <tbody>\n",
              "    <tr>\n",
              "      <th rowspan=\"5\" valign=\"top\">1952<\/th>\n",
              "      <th>Africa<\/th>\n",
              "      <td>39.14<\/td>\n",
              "      <td>1252.57<\/td>\n",
              "    <\/tr>\n",
              "    <tr>\n",
              "      <th>Americas<\/th>\n",
              "      <td>53.28<\/td>\n",
              "      <td>4079.06<\/td>\n",
              "    <\/tr>\n",
              "    <tr>\n",
              "      <th>Asia<\/th>\n",
              "      <td>46.31<\/td>\n",
              "      <td>5195.48<\/td>\n",
              "    <\/tr>\n",
              "    <tr>\n",
              "      <th>Europe<\/th>\n",
              "      <td>64.41<\/td>\n",
              "      <td>5661.06<\/td>\n",
              "    <\/tr>\n",
              "    <tr>\n",
              "      <th>Oceania<\/th>\n",
              "      <td>69.26<\/td>\n",
              "      <td>10298.09<\/td>\n",
              "    <\/tr>\n",
              "    <tr>\n",
              "      <th rowspan=\"5\" valign=\"top\">1957<\/th>\n",
              "      <th>Africa<\/th>\n",
              "      <td>41.27<\/td>\n",
              "      <td>1385.24<\/td>\n",
              "    <\/tr>\n",
              "    <tr>\n",
              "      <th>Americas<\/th>\n",
              "      <td>55.96<\/td>\n",
              "      <td>4616.04<\/td>\n",
              "    <\/tr>\n",
              "    <tr>\n",
              "      <th>Asia<\/th>\n",
              "      <td>49.32<\/td>\n",
              "      <td>5787.73<\/td>\n",
              "    <\/tr>\n",
              "    <tr>\n",
              "      <th>Europe<\/th>\n",
              "      <td>66.70<\/td>\n",
              "      <td>6963.01<\/td>\n",
              "    <\/tr>\n",
              "    <tr>\n",
              "      <th>Oceania<\/th>\n",
              "      <td>70.30<\/td>\n",
              "      <td>11598.52<\/td>\n",
              "    <\/tr>\n",
              "    <tr>\n",
              "      <th rowspan=\"5\" valign=\"top\">1962<\/th>\n",
              "      <th>Africa<\/th>\n",
              "      <td>43.32<\/td>\n",
              "      <td>1598.08<\/td>\n",
              "    <\/tr>\n",
              "    <tr>\n",
              "      <th>Americas<\/th>\n",
              "      <td>58.40<\/td>\n",
              "      <td>4901.54<\/td>\n",
              "    <\/tr>\n",
              "    <tr>\n",
              "      <th>Asia<\/th>\n",
              "      <td>51.56<\/td>\n",
              "      <td>5729.37<\/td>\n",
              "    <\/tr>\n",
              "    <tr>\n",
              "      <th>Europe<\/th>\n",
              "      <td>68.54<\/td>\n",
              "      <td>8365.49<\/td>\n",
              "    <\/tr>\n",
              "    <tr>\n",
              "      <th>Oceania<\/th>\n",
              "      <td>71.09<\/td>\n",
              "      <td>12696.45<\/td>\n",
              "    <\/tr>\n",
              "    <tr>\n",
              "      <th rowspan=\"5\" valign=\"top\">1967<\/th>\n",
              "      <th>Africa<\/th>\n",
              "      <td>45.33<\/td>\n",
              "      <td>2050.36<\/td>\n",
              "    <\/tr>\n",
              "    <tr>\n",
              "      <th>Americas<\/th>\n",
              "      <td>60.41<\/td>\n",
              "      <td>5668.25<\/td>\n",
              "    <\/tr>\n",
              "    <tr>\n",
              "      <th>Asia<\/th>\n",
              "      <td>54.66<\/td>\n",
              "      <td>5971.17<\/td>\n",
              "    <\/tr>\n",
              "    <tr>\n",
              "      <th>Europe<\/th>\n",
              "      <td>69.74<\/td>\n",
              "      <td>10143.82<\/td>\n",
              "    <\/tr>\n",
              "    <tr>\n",
              "      <th>Oceania<\/th>\n",
              "      <td>71.31<\/td>\n",
              "      <td>14495.02<\/td>\n",
              "    <\/tr>\n",
              "    <tr>\n",
              "      <th rowspan=\"5\" valign=\"top\">1972<\/th>\n",
              "      <th>Africa<\/th>\n",
              "      <td>47.45<\/td>\n",
              "      <td>2339.62<\/td>\n",
              "    <\/tr>\n",
              "    <tr>\n",
              "      <th>Americas<\/th>\n",
              "      <td>62.39<\/td>\n",
              "      <td>6491.33<\/td>\n",
              "    <\/tr>\n",
              "    <tr>\n",
              "      <th>Asia<\/th>\n",
              "      <td>57.32<\/td>\n",
              "      <td>8187.47<\/td>\n",
              "    <\/tr>\n",
              "    <tr>\n",
              "      <th>Europe<\/th>\n",
              "      <td>70.78<\/td>\n",
              "      <td>12479.58<\/td>\n",
              "    <\/tr>\n",
              "    <tr>\n",
              "      <th>Oceania<\/th>\n",
              "      <td>71.91<\/td>\n",
              "      <td>16417.33<\/td>\n",
              "    <\/tr>\n",
              "    <tr>\n",
              "      <th rowspan=\"5\" valign=\"top\">1977<\/th>\n",
              "      <th>Africa<\/th>\n",
              "      <td>49.58<\/td>\n",
              "      <td>2585.94<\/td>\n",
              "    <\/tr>\n",
              "    <tr>\n",
              "      <th>Americas<\/th>\n",
              "      <td>64.39<\/td>\n",
              "      <td>7352.01<\/td>\n",
              "    <\/tr>\n",
              "    <tr>\n",
              "      <th>Asia<\/th>\n",
              "      <td>59.61<\/td>\n",
              "      <td>7791.31<\/td>\n",
              "    <\/tr>\n",
              "    <tr>\n",
              "      <th>Europe<\/th>\n",
              "      <td>71.94<\/td>\n",
              "      <td>14283.98<\/td>\n",
              "    <\/tr>\n",
              "    <tr>\n",
              "      <th>Oceania<\/th>\n",
              "      <td>72.85<\/td>\n",
              "      <td>17283.96<\/td>\n",
              "    <\/tr>\n",
              "    <tr>\n",
              "      <th rowspan=\"5\" valign=\"top\">1982<\/th>\n",
              "      <th>Africa<\/th>\n",
              "      <td>51.59<\/td>\n",
              "      <td>2481.59<\/td>\n",
              "    <\/tr>\n",
              "    <tr>\n",
              "      <th>Americas<\/th>\n",
              "      <td>66.23<\/td>\n",
              "      <td>7506.74<\/td>\n",
              "    <\/tr>\n",
              "    <tr>\n",
              "      <th>Asia<\/th>\n",
              "      <td>62.62<\/td>\n",
              "      <td>7434.14<\/td>\n",
              "    <\/tr>\n",
              "    <tr>\n",
              "      <th>Europe<\/th>\n",
              "      <td>72.81<\/td>\n",
              "      <td>15617.90<\/td>\n",
              "    <\/tr>\n",
              "    <tr>\n",
              "      <th>Oceania<\/th>\n",
              "      <td>74.29<\/td>\n",
              "      <td>18554.71<\/td>\n",
              "    <\/tr>\n",
              "    <tr>\n",
              "      <th rowspan=\"5\" valign=\"top\">1987<\/th>\n",
              "      <th>Africa<\/th>\n",
              "      <td>53.34<\/td>\n",
              "      <td>2282.67<\/td>\n",
              "    <\/tr>\n",
              "    <tr>\n",
              "      <th>Americas<\/th>\n",
              "      <td>68.09<\/td>\n",
              "      <td>7793.40<\/td>\n",
              "    <\/tr>\n",
              "    <tr>\n",
              "      <th>Asia<\/th>\n",
              "      <td>64.85<\/td>\n",
              "      <td>7608.23<\/td>\n",
              "    <\/tr>\n",
              "    <tr>\n",
              "      <th>Europe<\/th>\n",
              "      <td>73.64<\/td>\n",
              "      <td>17214.31<\/td>\n",
              "    <\/tr>\n",
              "    <tr>\n",
              "      <th>Oceania<\/th>\n",
              "      <td>75.32<\/td>\n",
              "      <td>20448.04<\/td>\n",
              "    <\/tr>\n",
              "    <tr>\n",
              "      <th rowspan=\"5\" valign=\"top\">1992<\/th>\n",
              "      <th>Africa<\/th>\n",
              "      <td>53.63<\/td>\n",
              "      <td>2281.81<\/td>\n",
              "    <\/tr>\n",
              "    <tr>\n",
              "      <th>Americas<\/th>\n",
              "      <td>69.57<\/td>\n",
              "      <td>8044.93<\/td>\n",
              "    <\/tr>\n",
              "    <tr>\n",
              "      <th>Asia<\/th>\n",
              "      <td>66.54<\/td>\n",
              "      <td>8639.69<\/td>\n",
              "    <\/tr>\n",
              "    <tr>\n",
              "      <th>Europe<\/th>\n",
              "      <td>74.44<\/td>\n",
              "      <td>17061.57<\/td>\n",
              "    <\/tr>\n",
              "    <tr>\n",
              "      <th>Oceania<\/th>\n",
              "      <td>76.94<\/td>\n",
              "      <td>20894.05<\/td>\n",
              "    <\/tr>\n",
              "    <tr>\n",
              "      <th rowspan=\"5\" valign=\"top\">1997<\/th>\n",
              "      <th>Africa<\/th>\n",
              "      <td>53.60<\/td>\n",
              "      <td>2378.76<\/td>\n",
              "    <\/tr>\n",
              "    <tr>\n",
              "      <th>Americas<\/th>\n",
              "      <td>71.15<\/td>\n",
              "      <td>8889.30<\/td>\n",
              "    <\/tr>\n",
              "    <tr>\n",
              "      <th>Asia<\/th>\n",
              "      <td>68.02<\/td>\n",
              "      <td>9834.09<\/td>\n",
              "    <\/tr>\n",
              "    <tr>\n",
              "      <th>Europe<\/th>\n",
              "      <td>75.51<\/td>\n",
              "      <td>19076.78<\/td>\n",
              "    <\/tr>\n",
              "    <tr>\n",
              "      <th>Oceania<\/th>\n",
              "      <td>78.19<\/td>\n",
              "      <td>24024.18<\/td>\n",
              "    <\/tr>\n",
              "    <tr>\n",
              "      <th rowspan=\"5\" valign=\"top\">2002<\/th>\n",
              "      <th>Africa<\/th>\n",
              "      <td>53.33<\/td>\n",
              "      <td>2599.39<\/td>\n",
              "    <\/tr>\n",
              "    <tr>\n",
              "      <th>Americas<\/th>\n",
              "      <td>72.42<\/td>\n",
              "      <td>9287.68<\/td>\n",
              "    <\/tr>\n",
              "    <tr>\n",
              "      <th>Asia<\/th>\n",
              "      <td>69.23<\/td>\n",
              "      <td>10174.09<\/td>\n",
              "    <\/tr>\n",
              "    <tr>\n",
              "      <th>Europe<\/th>\n",
              "      <td>76.70<\/td>\n",
              "      <td>21711.73<\/td>\n",
              "    <\/tr>\n",
              "    <tr>\n",
              "      <th>Oceania<\/th>\n",
              "      <td>79.74<\/td>\n",
              "      <td>26938.78<\/td>\n",
              "    <\/tr>\n",
              "    <tr>\n",
              "      <th rowspan=\"5\" valign=\"top\">2007<\/th>\n",
              "      <th>Africa<\/th>\n",
              "      <td>54.81<\/td>\n",
              "      <td>3089.03<\/td>\n",
              "    <\/tr>\n",
              "    <tr>\n",
              "      <th>Americas<\/th>\n",
              "      <td>73.61<\/td>\n",
              "      <td>11003.03<\/td>\n",
              "    <\/tr>\n",
              "    <tr>\n",
              "      <th>Asia<\/th>\n",
              "      <td>70.73<\/td>\n",
              "      <td>12473.03<\/td>\n",
              "    <\/tr>\n",
              "    <tr>\n",
              "      <th>Europe<\/th>\n",
              "      <td>77.65<\/td>\n",
              "      <td>25054.48<\/td>\n",
              "    <\/tr>\n",
              "    <tr>\n",
              "      <th>Oceania<\/th>\n",
              "      <td>80.72<\/td>\n",
              "      <td>29810.19<\/td>\n",
              "    <\/tr>\n",
              "  <\/tbody>\n",
              "<\/table>\n",
              "<\/div>"
            ]
          },
          "metadata":{
            
          },
          "output_type":"display_data"
        }
      ],
      "metadata":{
        
      }
    },
    {
      "cell_type":"code",
      "source":[
        "from lets_plot import *\n",
        "ggplot(round(df.groupby(['year','continent'])[['life_exp','gdp_per_capita']].mean(),2)) +geom_line(aes(x=\"gdp_per_capita\", y=\"life_exp\"))"
      ],
      "execution_count":0,
      "outputs":[
        {
          "data":{
            "text\/html":[
              "<html lang=\"en\">\n",
              "   <head>\n",
              "       <script type=\"text\/javascript\" data-lets-plot-script=\"library\" src=\"https:\/\/cdn.jsdelivr.net\/gh\/JetBrains\/lets-plot@v2.1.0\/js-package\/distr\/lets-plot.min.js\"><\/script>\n",
              "   <\/head>\n",
              "   <body>\n",
              "          <div id=\"PsducQ\"><\/div>\n",
              "   <script type=\"text\/javascript\" data-lets-plot-script=\"plot\">\n",
              "       var plotSpec={\n",
              "\"data\":{\n",
              "\"life_exp\":[39.14,53.28,46.31,64.41,69.26,41.27,55.96,49.32,66.7,70.3,43.32,58.4,51.56,68.54,71.09,45.33,60.41,54.66,69.74,71.31,47.45,62.39,57.32,70.78,71.91,49.58,64.39,59.61,71.94,72.85,51.59,66.23,62.62,72.81,74.29,53.34,68.09,64.85,73.64,75.32,53.63,69.57,66.54,74.44,76.94,53.6,71.15,68.02,75.51,78.19,53.33,72.42,69.23,76.7,79.74,54.81,73.61,70.73,77.65,80.72],\n",
              "\"gdp_per_capita\":[1252.57,4079.06,5195.48,5661.06,10298.09,1385.24,4616.04,5787.73,6963.01,11598.52,1598.08,4901.54,5729.37,8365.49,12696.45,2050.36,5668.25,5971.17,10143.82,14495.02,2339.62,6491.33,8187.47,12479.58,16417.33,2585.94,7352.01,7791.31,14283.98,17283.96,2481.59,7506.74,7434.14,15617.9,18554.71,2282.67,7793.4,7608.23,17214.31,20448.04,2281.81,8044.93,8639.69,17061.57,20894.05,2378.76,8889.3,9834.09,19076.78,24024.18,2599.39,9287.68,10174.09,21711.73,26938.78,3089.03,11003.03,12473.03,25054.48,29810.19]\n",
              "},\n",
              "\"mapping\":{\n",
              "},\n",
              "\"data_meta\":{\n",
              "},\n",
              "\"kind\":\"plot\",\n",
              "\"scales\":[],\n",
              "\"layers\":[{\n",
              "\"geom\":\"line\",\n",
              "\"mapping\":{\n",
              "\"x\":\"gdp_per_capita\",\n",
              "\"y\":\"life_exp\"\n",
              "},\n",
              "\"data_meta\":{\n",
              "},\n",
              "\"data\":{\n",
              "}\n",
              "}]\n",
              "};\n",
              "       var plotContainer = document.getElementById(\"PsducQ\");\n",
              "       LetsPlot.buildPlotFromProcessedSpecs(plotSpec, -1, -1, plotContainer);\n",
              "   <\/script>\n",
              "   <\/body>\n",
              "<\/html>"
            ]
          },
          "metadata":{
            
          },
          "output_type":"display_data"
        }
      ],
      "metadata":{
        
      }
    },
    {
      "cell_type":"code",
      "source":[
        "multi_group = round(df.groupby(['year','continent'])[['life_exp','gdp_per_capita']].mean(),2)"
      ],
      "execution_count":0,
      "outputs":[
        
      ],
      "metadata":{
        
      }
    },
    {
      "cell_type":"code",
      "source":[
        "flat = multi_group.reset_index()"
      ],
      "execution_count":0,
      "outputs":[
        
      ],
      "metadata":{
        
      }
    },
    {
      "cell_type":"code",
      "source":[
        "flat"
      ],
      "execution_count":0,
      "outputs":[
        {
          "data":{
            "text\/html":[
              "<div>\n",
              "<style scoped>\n",
              "    .dataframe tbody tr th:only-of-type {\n",
              "        vertical-align: middle;\n",
              "    }\n",
              "\n",
              "    .dataframe tbody tr th {\n",
              "        vertical-align: top;\n",
              "    }\n",
              "\n",
              "    .dataframe thead th {\n",
              "        text-align: right;\n",
              "    }\n",
              "<\/style>\n",
              "<table border=\"1\" class=\"dataframe\">\n",
              "  <thead>\n",
              "    <tr style=\"text-align: right;\">\n",
              "      <th><\/th>\n",
              "      <th>year<\/th>\n",
              "      <th>continent<\/th>\n",
              "      <th>life_exp<\/th>\n",
              "      <th>gdp_per_capita<\/th>\n",
              "    <\/tr>\n",
              "  <\/thead>\n",
              "  <tbody>\n",
              "    <tr>\n",
              "      <th>0<\/th>\n",
              "      <td>1952<\/td>\n",
              "      <td>Africa<\/td>\n",
              "      <td>39.14<\/td>\n",
              "      <td>1252.57<\/td>\n",
              "    <\/tr>\n",
              "    <tr>\n",
              "      <th>1<\/th>\n",
              "      <td>1952<\/td>\n",
              "      <td>Americas<\/td>\n",
              "      <td>53.28<\/td>\n",
              "      <td>4079.06<\/td>\n",
              "    <\/tr>\n",
              "    <tr>\n",
              "      <th>2<\/th>\n",
              "      <td>1952<\/td>\n",
              "      <td>Asia<\/td>\n",
              "      <td>46.31<\/td>\n",
              "      <td>5195.48<\/td>\n",
              "    <\/tr>\n",
              "    <tr>\n",
              "      <th>3<\/th>\n",
              "      <td>1952<\/td>\n",
              "      <td>Europe<\/td>\n",
              "      <td>64.41<\/td>\n",
              "      <td>5661.06<\/td>\n",
              "    <\/tr>\n",
              "    <tr>\n",
              "      <th>4<\/th>\n",
              "      <td>1952<\/td>\n",
              "      <td>Oceania<\/td>\n",
              "      <td>69.26<\/td>\n",
              "      <td>10298.09<\/td>\n",
              "    <\/tr>\n",
              "    <tr>\n",
              "      <th>5<\/th>\n",
              "      <td>1957<\/td>\n",
              "      <td>Africa<\/td>\n",
              "      <td>41.27<\/td>\n",
              "      <td>1385.24<\/td>\n",
              "    <\/tr>\n",
              "    <tr>\n",
              "      <th>6<\/th>\n",
              "      <td>1957<\/td>\n",
              "      <td>Americas<\/td>\n",
              "      <td>55.96<\/td>\n",
              "      <td>4616.04<\/td>\n",
              "    <\/tr>\n",
              "    <tr>\n",
              "      <th>7<\/th>\n",
              "      <td>1957<\/td>\n",
              "      <td>Asia<\/td>\n",
              "      <td>49.32<\/td>\n",
              "      <td>5787.73<\/td>\n",
              "    <\/tr>\n",
              "    <tr>\n",
              "      <th>8<\/th>\n",
              "      <td>1957<\/td>\n",
              "      <td>Europe<\/td>\n",
              "      <td>66.70<\/td>\n",
              "      <td>6963.01<\/td>\n",
              "    <\/tr>\n",
              "    <tr>\n",
              "      <th>9<\/th>\n",
              "      <td>1957<\/td>\n",
              "      <td>Oceania<\/td>\n",
              "      <td>70.30<\/td>\n",
              "      <td>11598.52<\/td>\n",
              "    <\/tr>\n",
              "    <tr>\n",
              "      <th>10<\/th>\n",
              "      <td>1962<\/td>\n",
              "      <td>Africa<\/td>\n",
              "      <td>43.32<\/td>\n",
              "      <td>1598.08<\/td>\n",
              "    <\/tr>\n",
              "    <tr>\n",
              "      <th>11<\/th>\n",
              "      <td>1962<\/td>\n",
              "      <td>Americas<\/td>\n",
              "      <td>58.40<\/td>\n",
              "      <td>4901.54<\/td>\n",
              "    <\/tr>\n",
              "    <tr>\n",
              "      <th>12<\/th>\n",
              "      <td>1962<\/td>\n",
              "      <td>Asia<\/td>\n",
              "      <td>51.56<\/td>\n",
              "      <td>5729.37<\/td>\n",
              "    <\/tr>\n",
              "    <tr>\n",
              "      <th>13<\/th>\n",
              "      <td>1962<\/td>\n",
              "      <td>Europe<\/td>\n",
              "      <td>68.54<\/td>\n",
              "      <td>8365.49<\/td>\n",
              "    <\/tr>\n",
              "    <tr>\n",
              "      <th>14<\/th>\n",
              "      <td>1962<\/td>\n",
              "      <td>Oceania<\/td>\n",
              "      <td>71.09<\/td>\n",
              "      <td>12696.45<\/td>\n",
              "    <\/tr>\n",
              "    <tr>\n",
              "      <th>15<\/th>\n",
              "      <td>1967<\/td>\n",
              "      <td>Africa<\/td>\n",
              "      <td>45.33<\/td>\n",
              "      <td>2050.36<\/td>\n",
              "    <\/tr>\n",
              "    <tr>\n",
              "      <th>16<\/th>\n",
              "      <td>1967<\/td>\n",
              "      <td>Americas<\/td>\n",
              "      <td>60.41<\/td>\n",
              "      <td>5668.25<\/td>\n",
              "    <\/tr>\n",
              "    <tr>\n",
              "      <th>17<\/th>\n",
              "      <td>1967<\/td>\n",
              "      <td>Asia<\/td>\n",
              "      <td>54.66<\/td>\n",
              "      <td>5971.17<\/td>\n",
              "    <\/tr>\n",
              "    <tr>\n",
              "      <th>18<\/th>\n",
              "      <td>1967<\/td>\n",
              "      <td>Europe<\/td>\n",
              "      <td>69.74<\/td>\n",
              "      <td>10143.82<\/td>\n",
              "    <\/tr>\n",
              "    <tr>\n",
              "      <th>19<\/th>\n",
              "      <td>1967<\/td>\n",
              "      <td>Oceania<\/td>\n",
              "      <td>71.31<\/td>\n",
              "      <td>14495.02<\/td>\n",
              "    <\/tr>\n",
              "    <tr>\n",
              "      <th>20<\/th>\n",
              "      <td>1972<\/td>\n",
              "      <td>Africa<\/td>\n",
              "      <td>47.45<\/td>\n",
              "      <td>2339.62<\/td>\n",
              "    <\/tr>\n",
              "    <tr>\n",
              "      <th>21<\/th>\n",
              "      <td>1972<\/td>\n",
              "      <td>Americas<\/td>\n",
              "      <td>62.39<\/td>\n",
              "      <td>6491.33<\/td>\n",
              "    <\/tr>\n",
              "    <tr>\n",
              "      <th>22<\/th>\n",
              "      <td>1972<\/td>\n",
              "      <td>Asia<\/td>\n",
              "      <td>57.32<\/td>\n",
              "      <td>8187.47<\/td>\n",
              "    <\/tr>\n",
              "    <tr>\n",
              "      <th>23<\/th>\n",
              "      <td>1972<\/td>\n",
              "      <td>Europe<\/td>\n",
              "      <td>70.78<\/td>\n",
              "      <td>12479.58<\/td>\n",
              "    <\/tr>\n",
              "    <tr>\n",
              "      <th>24<\/th>\n",
              "      <td>1972<\/td>\n",
              "      <td>Oceania<\/td>\n",
              "      <td>71.91<\/td>\n",
              "      <td>16417.33<\/td>\n",
              "    <\/tr>\n",
              "    <tr>\n",
              "      <th>25<\/th>\n",
              "      <td>1977<\/td>\n",
              "      <td>Africa<\/td>\n",
              "      <td>49.58<\/td>\n",
              "      <td>2585.94<\/td>\n",
              "    <\/tr>\n",
              "    <tr>\n",
              "      <th>26<\/th>\n",
              "      <td>1977<\/td>\n",
              "      <td>Americas<\/td>\n",
              "      <td>64.39<\/td>\n",
              "      <td>7352.01<\/td>\n",
              "    <\/tr>\n",
              "    <tr>\n",
              "      <th>27<\/th>\n",
              "      <td>1977<\/td>\n",
              "      <td>Asia<\/td>\n",
              "      <td>59.61<\/td>\n",
              "      <td>7791.31<\/td>\n",
              "    <\/tr>\n",
              "    <tr>\n",
              "      <th>28<\/th>\n",
              "      <td>1977<\/td>\n",
              "      <td>Europe<\/td>\n",
              "      <td>71.94<\/td>\n",
              "      <td>14283.98<\/td>\n",
              "    <\/tr>\n",
              "    <tr>\n",
              "      <th>29<\/th>\n",
              "      <td>1977<\/td>\n",
              "      <td>Oceania<\/td>\n",
              "      <td>72.85<\/td>\n",
              "      <td>17283.96<\/td>\n",
              "    <\/tr>\n",
              "    <tr>\n",
              "      <th>30<\/th>\n",
              "      <td>1982<\/td>\n",
              "      <td>Africa<\/td>\n",
              "      <td>51.59<\/td>\n",
              "      <td>2481.59<\/td>\n",
              "    <\/tr>\n",
              "    <tr>\n",
              "      <th>31<\/th>\n",
              "      <td>1982<\/td>\n",
              "      <td>Americas<\/td>\n",
              "      <td>66.23<\/td>\n",
              "      <td>7506.74<\/td>\n",
              "    <\/tr>\n",
              "    <tr>\n",
              "      <th>32<\/th>\n",
              "      <td>1982<\/td>\n",
              "      <td>Asia<\/td>\n",
              "      <td>62.62<\/td>\n",
              "      <td>7434.14<\/td>\n",
              "    <\/tr>\n",
              "    <tr>\n",
              "      <th>33<\/th>\n",
              "      <td>1982<\/td>\n",
              "      <td>Europe<\/td>\n",
              "      <td>72.81<\/td>\n",
              "      <td>15617.90<\/td>\n",
              "    <\/tr>\n",
              "    <tr>\n",
              "      <th>34<\/th>\n",
              "      <td>1982<\/td>\n",
              "      <td>Oceania<\/td>\n",
              "      <td>74.29<\/td>\n",
              "      <td>18554.71<\/td>\n",
              "    <\/tr>\n",
              "    <tr>\n",
              "      <th>35<\/th>\n",
              "      <td>1987<\/td>\n",
              "      <td>Africa<\/td>\n",
              "      <td>53.34<\/td>\n",
              "      <td>2282.67<\/td>\n",
              "    <\/tr>\n",
              "    <tr>\n",
              "      <th>36<\/th>\n",
              "      <td>1987<\/td>\n",
              "      <td>Americas<\/td>\n",
              "      <td>68.09<\/td>\n",
              "      <td>7793.40<\/td>\n",
              "    <\/tr>\n",
              "    <tr>\n",
              "      <th>37<\/th>\n",
              "      <td>1987<\/td>\n",
              "      <td>Asia<\/td>\n",
              "      <td>64.85<\/td>\n",
              "      <td>7608.23<\/td>\n",
              "    <\/tr>\n",
              "    <tr>\n",
              "      <th>38<\/th>\n",
              "      <td>1987<\/td>\n",
              "      <td>Europe<\/td>\n",
              "      <td>73.64<\/td>\n",
              "      <td>17214.31<\/td>\n",
              "    <\/tr>\n",
              "    <tr>\n",
              "      <th>39<\/th>\n",
              "      <td>1987<\/td>\n",
              "      <td>Oceania<\/td>\n",
              "      <td>75.32<\/td>\n",
              "      <td>20448.04<\/td>\n",
              "    <\/tr>\n",
              "    <tr>\n",
              "      <th>40<\/th>\n",
              "      <td>1992<\/td>\n",
              "      <td>Africa<\/td>\n",
              "      <td>53.63<\/td>\n",
              "      <td>2281.81<\/td>\n",
              "    <\/tr>\n",
              "    <tr>\n",
              "      <th>41<\/th>\n",
              "      <td>1992<\/td>\n",
              "      <td>Americas<\/td>\n",
              "      <td>69.57<\/td>\n",
              "      <td>8044.93<\/td>\n",
              "    <\/tr>\n",
              "    <tr>\n",
              "      <th>42<\/th>\n",
              "      <td>1992<\/td>\n",
              "      <td>Asia<\/td>\n",
              "      <td>66.54<\/td>\n",
              "      <td>8639.69<\/td>\n",
              "    <\/tr>\n",
              "    <tr>\n",
              "      <th>43<\/th>\n",
              "      <td>1992<\/td>\n",
              "      <td>Europe<\/td>\n",
              "      <td>74.44<\/td>\n",
              "      <td>17061.57<\/td>\n",
              "    <\/tr>\n",
              "    <tr>\n",
              "      <th>44<\/th>\n",
              "      <td>1992<\/td>\n",
              "      <td>Oceania<\/td>\n",
              "      <td>76.94<\/td>\n",
              "      <td>20894.05<\/td>\n",
              "    <\/tr>\n",
              "    <tr>\n",
              "      <th>45<\/th>\n",
              "      <td>1997<\/td>\n",
              "      <td>Africa<\/td>\n",
              "      <td>53.60<\/td>\n",
              "      <td>2378.76<\/td>\n",
              "    <\/tr>\n",
              "    <tr>\n",
              "      <th>46<\/th>\n",
              "      <td>1997<\/td>\n",
              "      <td>Americas<\/td>\n",
              "      <td>71.15<\/td>\n",
              "      <td>8889.30<\/td>\n",
              "    <\/tr>\n",
              "    <tr>\n",
              "      <th>47<\/th>\n",
              "      <td>1997<\/td>\n",
              "      <td>Asia<\/td>\n",
              "      <td>68.02<\/td>\n",
              "      <td>9834.09<\/td>\n",
              "    <\/tr>\n",
              "    <tr>\n",
              "      <th>48<\/th>\n",
              "      <td>1997<\/td>\n",
              "      <td>Europe<\/td>\n",
              "      <td>75.51<\/td>\n",
              "      <td>19076.78<\/td>\n",
              "    <\/tr>\n",
              "    <tr>\n",
              "      <th>49<\/th>\n",
              "      <td>1997<\/td>\n",
              "      <td>Oceania<\/td>\n",
              "      <td>78.19<\/td>\n",
              "      <td>24024.18<\/td>\n",
              "    <\/tr>\n",
              "    <tr>\n",
              "      <th>50<\/th>\n",
              "      <td>2002<\/td>\n",
              "      <td>Africa<\/td>\n",
              "      <td>53.33<\/td>\n",
              "      <td>2599.39<\/td>\n",
              "    <\/tr>\n",
              "    <tr>\n",
              "      <th>51<\/th>\n",
              "      <td>2002<\/td>\n",
              "      <td>Americas<\/td>\n",
              "      <td>72.42<\/td>\n",
              "      <td>9287.68<\/td>\n",
              "    <\/tr>\n",
              "    <tr>\n",
              "      <th>52<\/th>\n",
              "      <td>2002<\/td>\n",
              "      <td>Asia<\/td>\n",
              "      <td>69.23<\/td>\n",
              "      <td>10174.09<\/td>\n",
              "    <\/tr>\n",
              "    <tr>\n",
              "      <th>53<\/th>\n",
              "      <td>2002<\/td>\n",
              "      <td>Europe<\/td>\n",
              "      <td>76.70<\/td>\n",
              "      <td>21711.73<\/td>\n",
              "    <\/tr>\n",
              "    <tr>\n",
              "      <th>54<\/th>\n",
              "      <td>2002<\/td>\n",
              "      <td>Oceania<\/td>\n",
              "      <td>79.74<\/td>\n",
              "      <td>26938.78<\/td>\n",
              "    <\/tr>\n",
              "    <tr>\n",
              "      <th>55<\/th>\n",
              "      <td>2007<\/td>\n",
              "      <td>Africa<\/td>\n",
              "      <td>54.81<\/td>\n",
              "      <td>3089.03<\/td>\n",
              "    <\/tr>\n",
              "    <tr>\n",
              "      <th>56<\/th>\n",
              "      <td>2007<\/td>\n",
              "      <td>Americas<\/td>\n",
              "      <td>73.61<\/td>\n",
              "      <td>11003.03<\/td>\n",
              "    <\/tr>\n",
              "    <tr>\n",
              "      <th>57<\/th>\n",
              "      <td>2007<\/td>\n",
              "      <td>Asia<\/td>\n",
              "      <td>70.73<\/td>\n",
              "      <td>12473.03<\/td>\n",
              "    <\/tr>\n",
              "    <tr>\n",
              "      <th>58<\/th>\n",
              "      <td>2007<\/td>\n",
              "      <td>Europe<\/td>\n",
              "      <td>77.65<\/td>\n",
              "      <td>25054.48<\/td>\n",
              "    <\/tr>\n",
              "    <tr>\n",
              "      <th>59<\/th>\n",
              "      <td>2007<\/td>\n",
              "      <td>Oceania<\/td>\n",
              "      <td>80.72<\/td>\n",
              "      <td>29810.19<\/td>\n",
              "    <\/tr>\n",
              "  <\/tbody>\n",
              "<\/table>\n",
              "<\/div>"
            ]
          },
          "metadata":{
            
          },
          "output_type":"display_data"
        }
      ],
      "metadata":{
        
      }
    },
    {
      "cell_type":"code",
      "source":[
        "df.head()"
      ],
      "execution_count":0,
      "outputs":[
        {
          "data":{
            "text\/html":[
              "<div>\n",
              "<style scoped>\n",
              "    .dataframe tbody tr th:only-of-type {\n",
              "        vertical-align: middle;\n",
              "    }\n",
              "\n",
              "    .dataframe tbody tr th {\n",
              "        vertical-align: top;\n",
              "    }\n",
              "\n",
              "    .dataframe thead th {\n",
              "        text-align: right;\n",
              "    }\n",
              "<\/style>\n",
              "<table border=\"1\" class=\"dataframe\">\n",
              "  <thead>\n",
              "    <tr style=\"text-align: right;\">\n",
              "      <th><\/th>\n",
              "      <th>country<\/th>\n",
              "      <th>continent<\/th>\n",
              "      <th>year<\/th>\n",
              "      <th>life_exp<\/th>\n",
              "      <th>population<\/th>\n",
              "      <th>gdp_per_capita<\/th>\n",
              "    <\/tr>\n",
              "  <\/thead>\n",
              "  <tbody>\n",
              "    <tr>\n",
              "      <th>0<\/th>\n",
              "      <td>Afghanistan<\/td>\n",
              "      <td>Asia<\/td>\n",
              "      <td>1952<\/td>\n",
              "      <td>28.801<\/td>\n",
              "      <td>8425333<\/td>\n",
              "      <td>779.44531<\/td>\n",
              "    <\/tr>\n",
              "    <tr>\n",
              "      <th>1<\/th>\n",
              "      <td>Afghanistan<\/td>\n",
              "      <td>Asia<\/td>\n",
              "      <td>1957<\/td>\n",
              "      <td>30.332<\/td>\n",
              "      <td>9240934<\/td>\n",
              "      <td>820.85303<\/td>\n",
              "    <\/tr>\n",
              "    <tr>\n",
              "      <th>2<\/th>\n",
              "      <td>Afghanistan<\/td>\n",
              "      <td>Asia<\/td>\n",
              "      <td>1962<\/td>\n",
              "      <td>31.997<\/td>\n",
              "      <td>10267083<\/td>\n",
              "      <td>853.10071<\/td>\n",
              "    <\/tr>\n",
              "    <tr>\n",
              "      <th>3<\/th>\n",
              "      <td>Afghanistan<\/td>\n",
              "      <td>Asia<\/td>\n",
              "      <td>1967<\/td>\n",
              "      <td>34.020<\/td>\n",
              "      <td>11537966<\/td>\n",
              "      <td>836.19714<\/td>\n",
              "    <\/tr>\n",
              "    <tr>\n",
              "      <th>4<\/th>\n",
              "      <td>Afghanistan<\/td>\n",
              "      <td>Asia<\/td>\n",
              "      <td>1972<\/td>\n",
              "      <td>36.088<\/td>\n",
              "      <td>13079460<\/td>\n",
              "      <td>739.98111<\/td>\n",
              "    <\/tr>\n",
              "  <\/tbody>\n",
              "<\/table>\n",
              "<\/div>"
            ]
          },
          "metadata":{
            
          },
          "output_type":"display_data"
        }
      ],
      "metadata":{
        
      }
    },
    {
      "cell_type":"code",
      "source":[
        "import random\n",
        "random.seed(421)\n",
        "subsetting = df.sample(9)"
      ],
      "execution_count":0,
      "outputs":[
        
      ],
      "metadata":{
        
      }
    },
    {
      "cell_type":"code",
      "source":[
        "subsetting"
      ],
      "execution_count":0,
      "outputs":[
        {
          "data":{
            "text\/html":[
              "<div>\n",
              "<style scoped>\n",
              "    .dataframe tbody tr th:only-of-type {\n",
              "        vertical-align: middle;\n",
              "    }\n",
              "\n",
              "    .dataframe tbody tr th {\n",
              "        vertical-align: top;\n",
              "    }\n",
              "\n",
              "    .dataframe thead th {\n",
              "        text-align: right;\n",
              "    }\n",
              "<\/style>\n",
              "<table border=\"1\" class=\"dataframe\">\n",
              "  <thead>\n",
              "    <tr style=\"text-align: right;\">\n",
              "      <th><\/th>\n",
              "      <th>country<\/th>\n",
              "      <th>continent<\/th>\n",
              "      <th>year<\/th>\n",
              "      <th>life_exp<\/th>\n",
              "      <th>population<\/th>\n",
              "      <th>gdp_per_capita<\/th>\n",
              "    <\/tr>\n",
              "  <\/thead>\n",
              "  <tbody>\n",
              "    <tr>\n",
              "      <th>317<\/th>\n",
              "      <td>Comoros<\/td>\n",
              "      <td>Africa<\/td>\n",
              "      <td>1977<\/td>\n",
              "      <td>50.939<\/td>\n",
              "      <td>304739<\/td>\n",
              "      <td>1172.60305<\/td>\n",
              "    <\/tr>\n",
              "    <tr>\n",
              "      <th>1233<\/th>\n",
              "      <td>Poland<\/td>\n",
              "      <td>Europe<\/td>\n",
              "      <td>1997<\/td>\n",
              "      <td>72.750<\/td>\n",
              "      <td>38654957<\/td>\n",
              "      <td>10159.58368<\/td>\n",
              "    <\/tr>\n",
              "    <tr>\n",
              "      <th>1626<\/th>\n",
              "      <td>Uruguay<\/td>\n",
              "      <td>Americas<\/td>\n",
              "      <td>1982<\/td>\n",
              "      <td>70.805<\/td>\n",
              "      <td>2953997<\/td>\n",
              "      <td>6920.22305<\/td>\n",
              "    <\/tr>\n",
              "    <tr>\n",
              "      <th>1308<\/th>\n",
              "      <td>Saudi Arabia<\/td>\n",
              "      <td>Asia<\/td>\n",
              "      <td>1952<\/td>\n",
              "      <td>39.875<\/td>\n",
              "      <td>4005677<\/td>\n",
              "      <td>6459.55482<\/td>\n",
              "    <\/tr>\n",
              "    <tr>\n",
              "      <th>587<\/th>\n",
              "      <td>Ghana<\/td>\n",
              "      <td>Africa<\/td>\n",
              "      <td>2007<\/td>\n",
              "      <td>60.022<\/td>\n",
              "      <td>22873338<\/td>\n",
              "      <td>1327.60891<\/td>\n",
              "    <\/tr>\n",
              "    <tr>\n",
              "      <th>1333<\/th>\n",
              "      <td>Serbia<\/td>\n",
              "      <td>Europe<\/td>\n",
              "      <td>1957<\/td>\n",
              "      <td>61.685<\/td>\n",
              "      <td>7271135<\/td>\n",
              "      <td>4981.09089<\/td>\n",
              "    <\/tr>\n",
              "    <tr>\n",
              "      <th>602<\/th>\n",
              "      <td>Guatemala<\/td>\n",
              "      <td>Americas<\/td>\n",
              "      <td>1962<\/td>\n",
              "      <td>46.954<\/td>\n",
              "      <td>4208858<\/td>\n",
              "      <td>2750.36445<\/td>\n",
              "    <\/tr>\n",
              "    <tr>\n",
              "      <th>686<\/th>\n",
              "      <td>Iceland<\/td>\n",
              "      <td>Europe<\/td>\n",
              "      <td>1962<\/td>\n",
              "      <td>73.680<\/td>\n",
              "      <td>182053<\/td>\n",
              "      <td>10350.15906<\/td>\n",
              "    <\/tr>\n",
              "    <tr>\n",
              "      <th>260<\/th>\n",
              "      <td>Central African Republic<\/td>\n",
              "      <td>Africa<\/td>\n",
              "      <td>1992<\/td>\n",
              "      <td>49.396<\/td>\n",
              "      <td>3265124<\/td>\n",
              "      <td>747.90553<\/td>\n",
              "    <\/tr>\n",
              "  <\/tbody>\n",
              "<\/table>\n",
              "<\/div>"
            ]
          },
          "metadata":{
            
          },
          "output_type":"display_data"
        }
      ],
      "metadata":{
        
      }
    },
    {
      "cell_type":"code",
      "source":[
        "subsetting.groupby(['year','continent'])[['population','gdp_per_capita']].mean()"
      ],
      "execution_count":0,
      "outputs":[
        {
          "data":{
            "text\/html":[
              "<div>\n",
              "<style scoped>\n",
              "    .dataframe tbody tr th:only-of-type {\n",
              "        vertical-align: middle;\n",
              "    }\n",
              "\n",
              "    .dataframe tbody tr th {\n",
              "        vertical-align: top;\n",
              "    }\n",
              "\n",
              "    .dataframe thead th {\n",
              "        text-align: right;\n",
              "    }\n",
              "<\/style>\n",
              "<table border=\"1\" class=\"dataframe\">\n",
              "  <thead>\n",
              "    <tr style=\"text-align: right;\">\n",
              "      <th><\/th>\n",
              "      <th><\/th>\n",
              "      <th>population<\/th>\n",
              "      <th>gdp_per_capita<\/th>\n",
              "    <\/tr>\n",
              "    <tr>\n",
              "      <th>year<\/th>\n",
              "      <th>continent<\/th>\n",
              "      <th><\/th>\n",
              "      <th><\/th>\n",
              "    <\/tr>\n",
              "  <\/thead>\n",
              "  <tbody>\n",
              "    <tr>\n",
              "      <th>1952<\/th>\n",
              "      <th>Asia<\/th>\n",
              "      <td>4005677<\/td>\n",
              "      <td>6459.55482<\/td>\n",
              "    <\/tr>\n",
              "    <tr>\n",
              "      <th>1957<\/th>\n",
              "      <th>Europe<\/th>\n",
              "      <td>7271135<\/td>\n",
              "      <td>4981.09089<\/td>\n",
              "    <\/tr>\n",
              "    <tr>\n",
              "      <th rowspan=\"2\" valign=\"top\">1962<\/th>\n",
              "      <th>Americas<\/th>\n",
              "      <td>4208858<\/td>\n",
              "      <td>2750.36445<\/td>\n",
              "    <\/tr>\n",
              "    <tr>\n",
              "      <th>Europe<\/th>\n",
              "      <td>182053<\/td>\n",
              "      <td>10350.15906<\/td>\n",
              "    <\/tr>\n",
              "    <tr>\n",
              "      <th>1977<\/th>\n",
              "      <th>Africa<\/th>\n",
              "      <td>304739<\/td>\n",
              "      <td>1172.60305<\/td>\n",
              "    <\/tr>\n",
              "    <tr>\n",
              "      <th>1982<\/th>\n",
              "      <th>Americas<\/th>\n",
              "      <td>2953997<\/td>\n",
              "      <td>6920.22305<\/td>\n",
              "    <\/tr>\n",
              "    <tr>\n",
              "      <th>1992<\/th>\n",
              "      <th>Africa<\/th>\n",
              "      <td>3265124<\/td>\n",
              "      <td>747.90553<\/td>\n",
              "    <\/tr>\n",
              "    <tr>\n",
              "      <th>1997<\/th>\n",
              "      <th>Europe<\/th>\n",
              "      <td>38654957<\/td>\n",
              "      <td>10159.58368<\/td>\n",
              "    <\/tr>\n",
              "    <tr>\n",
              "      <th>2007<\/th>\n",
              "      <th>Africa<\/th>\n",
              "      <td>22873338<\/td>\n",
              "      <td>1327.60891<\/td>\n",
              "    <\/tr>\n",
              "  <\/tbody>\n",
              "<\/table>\n",
              "<\/div>"
            ]
          },
          "metadata":{
            
          },
          "output_type":"display_data"
        }
      ],
      "metadata":{
        
      }
    },
    {
      "cell_type":"code",
      "source":[
        "df.groupby('continent')['country'].count()"
      ],
      "execution_count":0,
      "outputs":[
        {
          "data":{
            "text\/plain":[
              "continent\n",
              "Africa      624\n",
              "Americas    300\n",
              "Asia        396\n",
              "Europe      360\n",
              "Oceania      24\n",
              "Name: country, dtype: int64"
            ]
          },
          "metadata":{
            
          },
          "output_type":"display_data"
        }
      ],
      "metadata":{
        
      }
    },
    {
      "cell_type":"code",
      "source":[
        "df.groupby('continent')['country'].nunique()"
      ],
      "execution_count":0,
      "outputs":[
        {
          "data":{
            "text\/plain":[
              "continent\n",
              "Africa      52\n",
              "Americas    25\n",
              "Asia        33\n",
              "Europe      30\n",
              "Oceania      2\n",
              "Name: country, dtype: int64"
            ]
          },
          "metadata":{
            
          },
          "output_type":"display_data"
        }
      ],
      "metadata":{
        
      }
    },
    {
      "cell_type":"code",
      "source":[
        "df.groupby('continent')['country'].value_counts()"
      ],
      "execution_count":0,
      "outputs":[
        {
          "data":{
            "text\/plain":[
              "continent  country       \n",
              "Africa     Algeria           12\n",
              "           Angola            12\n",
              "           Benin             12\n",
              "           Botswana          12\n",
              "           Burkina Faso      12\n",
              "                             ..\n",
              "Europe     Switzerland       12\n",
              "           Turkey            12\n",
              "           United Kingdom    12\n",
              "Oceania    Australia         12\n",
              "           New Zealand       12\n",
              "Name: country, Length: 142, dtype: int64"
            ]
          },
          "metadata":{
            
          },
          "output_type":"display_data"
        }
      ],
      "metadata":{
        
      }
    },
    {
      "cell_type":"code",
      "source":[
        "df.groupby('year')['life_exp'].mean().plot()"
      ],
      "execution_count":0,
      "outputs":[
        {
          "data":{
            "text\/plain":[
              "<AxesSubplot:xlabel='year'>"
            ],
            "image\/png":"[encoded data removed]"
          },
          "metadata":{
            "image\/png":{
              
            }
          },
          "output_type":"display_data"
        }
      ],
      "metadata":{
        
      }
    },
    {
      "cell_type":"code",
      "source":[
        
      ],
      "execution_count":0,
      "outputs":[
        
      ],
      "metadata":{
        
      }
    }
  ],
  "metadata":{
    
  },
  "nbformat":4,
  "nbformat_minor":0
}