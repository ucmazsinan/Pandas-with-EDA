{
  "cells":[
    {
      "cell_type":"markdown",
      "source":[
        "# **Creating your own data**"
      ],
      "attachments":{
        
      },
      "metadata":{
        
      }
    },
    {
      "cell_type":"code",
      "source":[
        "import pandas as pd "
      ],
      "execution_count":39,
      "outputs":[
        
      ],
      "metadata":{
        
      }
    },
    {
      "cell_type":"code",
      "source":[
        "S = pd.Series([\"Banana\",5])\n",
        "print(S)"
      ],
      "execution_count":40,
      "outputs":[
        {
          "name":"stdout",
          "text":[
            "0    Banana\n",
            "1         5\n",
            "dtype: object\n"
          ],
          "output_type":"stream"
        }
      ],
      "metadata":{
        
      }
    },
    {
      "cell_type":"code",
      "source":[
        "A  = pd.Series([\"Wes McKinney\",\"Creator of Pandas\"],index=['Person','Who'])\n",
        "print(A)"
      ],
      "execution_count":41,
      "outputs":[
        {
          "name":"stdout",
          "text":[
            "Person         Wes McKinney\n",
            "Who       Creator of Pandas\n",
            "dtype: object\n"
          ],
          "output_type":"stream"
        }
      ],
      "metadata":{
        
      }
    },
    {
      "cell_type":"code",
      "source":[
        "scientits = {\"Name\" : [\"Alan Turing\", \"William Gosset\"],\n",
        "             \"Occupation\" : [\"Mathematician\",\"Statistician\"],\n",
        "             \"Born\": [\"23-06-1912\",\"13-06-1876\"],\n",
        "             \"Died\" :[\"07-06-1954\",\"16-10-1937\"],\n",
        "             \"Age\":[42,61]}\n",
        "\n",
        "scientits"
      ],
      "execution_count":42,
      "outputs":[
        {
          "data":{
            "text\/plain":[
              "{'Name': ['Alan Turing', 'William Gosset'],\n",
              " 'Occupation': ['Mathematician', 'Statistician'],\n",
              " 'Born': ['23-06-1912', '13-06-1876'],\n",
              " 'Died': ['07-06-1954', '16-10-1937'],\n",
              " 'Age': [42, 61]}"
            ]
          },
          "metadata":{
            
          },
          "output_type":"display_data"
        }
      ],
      "metadata":{
        
      }
    },
    {
      "cell_type":"code",
      "source":[
        "p = pd.DataFrame(scientits,\n",
        "             index=[\"one\",\"two\"])\n",
        "p"
      ],
      "execution_count":43,
      "outputs":[
        {
          "data":{
            "text\/html":[
              "<div>\n",
              "<style scoped>\n",
              "    .dataframe tbody tr th:only-of-type {\n",
              "        vertical-align: middle;\n",
              "    }\n",
              "\n",
              "    .dataframe tbody tr th {\n",
              "        vertical-align: top;\n",
              "    }\n",
              "\n",
              "    .dataframe thead th {\n",
              "        text-align: right;\n",
              "    }\n",
              "<\/style>\n",
              "<table border=\"1\" class=\"dataframe\">\n",
              "  <thead>\n",
              "    <tr style=\"text-align: right;\">\n",
              "      <th><\/th>\n",
              "      <th>Name<\/th>\n",
              "      <th>Occupation<\/th>\n",
              "      <th>Born<\/th>\n",
              "      <th>Died<\/th>\n",
              "      <th>Age<\/th>\n",
              "    <\/tr>\n",
              "  <\/thead>\n",
              "  <tbody>\n",
              "    <tr>\n",
              "      <th>one<\/th>\n",
              "      <td>Alan Turing<\/td>\n",
              "      <td>Mathematician<\/td>\n",
              "      <td>23-06-1912<\/td>\n",
              "      <td>07-06-1954<\/td>\n",
              "      <td>42<\/td>\n",
              "    <\/tr>\n",
              "    <tr>\n",
              "      <th>two<\/th>\n",
              "      <td>William Gosset<\/td>\n",
              "      <td>Statistician<\/td>\n",
              "      <td>13-06-1876<\/td>\n",
              "      <td>16-10-1937<\/td>\n",
              "      <td>61<\/td>\n",
              "    <\/tr>\n",
              "  <\/tbody>\n",
              "<\/table>\n",
              "<\/div>"
            ]
          },
          "metadata":{
            
          },
          "output_type":"display_data"
        }
      ],
      "metadata":{
        
      }
    },
    {
      "cell_type":"code",
      "source":[
        "first_row = p.loc['one']\n",
        "print(first_row)"
      ],
      "execution_count":44,
      "outputs":[
        {
          "name":"stdout",
          "text":[
            "Name            Alan Turing\n",
            "Occupation    Mathematician\n",
            "Born             23-06-1912\n",
            "Died             07-06-1954\n",
            "Age                      42\n",
            "Name: one, dtype: object\n"
          ],
          "output_type":"stream"
        }
      ],
      "metadata":{
        
      }
    },
    {
      "cell_type":"code",
      "source":[
        "print(type(first_row))"
      ],
      "execution_count":45,
      "outputs":[
        {
          "name":"stdout",
          "text":[
            "<class 'pandas.core.series.Series'>\n"
          ],
          "output_type":"stream"
        }
      ],
      "metadata":{
        
      }
    },
    {
      "cell_type":"code",
      "source":[
        "first_row.index"
      ],
      "execution_count":46,
      "outputs":[
        {
          "data":{
            "text\/plain":[
              "Index(['Name', 'Occupation', 'Born', 'Died', 'Age'], dtype='object')"
            ]
          },
          "metadata":{
            
          },
          "output_type":"display_data"
        }
      ],
      "metadata":{
        
      }
    },
    {
      "cell_type":"code",
      "source":[
        "first_row.values"
      ],
      "execution_count":47,
      "outputs":[
        {
          "data":{
            "text\/html":[
              
            ]
          },
          "metadata":{
            
          },
          "output_type":"display_data"
        }
      ],
      "metadata":{
        
      }
    },
    {
      "cell_type":"code",
      "source":[
        "first_row.index"
      ],
      "execution_count":48,
      "outputs":[
        {
          "data":{
            "text\/plain":[
              "Index(['Name', 'Occupation', 'Born', 'Died', 'Age'], dtype='object')"
            ]
          },
          "metadata":{
            
          },
          "output_type":"display_data"
        }
      ],
      "metadata":{
        
      }
    },
    {
      "cell_type":"code",
      "source":[
        "first_row.keys()"
      ],
      "execution_count":49,
      "outputs":[
        {
          "data":{
            "text\/plain":[
              "Index(['Name', 'Occupation', 'Born', 'Died', 'Age'], dtype='object')"
            ]
          },
          "metadata":{
            
          },
          "output_type":"display_data"
        }
      ],
      "metadata":{
        
      }
    },
    {
      "cell_type":"code",
      "source":[
        "first_row.index[0]"
      ],
      "execution_count":50,
      "outputs":[
        {
          "data":{
            "text\/plain":[
              "'Name'"
            ]
          },
          "metadata":{
            
          },
          "output_type":"display_data"
        }
      ],
      "metadata":{
        
      }
    },
    {
      "cell_type":"code",
      "source":[
        "first_row.keys()[0]"
      ],
      "execution_count":51,
      "outputs":[
        {
          "data":{
            "text\/plain":[
              "'Name'"
            ]
          },
          "metadata":{
            
          },
          "output_type":"display_data"
        }
      ],
      "metadata":{
        
      }
    },
    {
      "cell_type":"code",
      "source":[
        "Ages = p[\"Age\"]\n",
        "Ages"
      ],
      "execution_count":52,
      "outputs":[
        {
          "data":{
            "text\/html":[
              
            ]
          },
          "metadata":{
            
          },
          "output_type":"display_data"
        }
      ],
      "metadata":{
        
      }
    },
    {
      "cell_type":"code",
      "source":[
        "Ages.mean()"
      ],
      "execution_count":53,
      "outputs":[
        {
          "data":{
            "text\/plain":[
              "51.5"
            ]
          },
          "metadata":{
            
          },
          "output_type":"display_data"
        }
      ],
      "metadata":{
        
      }
    },
    {
      "cell_type":"code",
      "source":[
        "Ages.min()"
      ],
      "execution_count":54,
      "outputs":[
        {
          "data":{
            "text\/plain":[
              "42"
            ]
          },
          "metadata":{
            
          },
          "output_type":"display_data"
        }
      ],
      "metadata":{
        
      }
    },
    {
      "cell_type":"code",
      "source":[
        "Ages.max()"
      ],
      "execution_count":55,
      "outputs":[
        {
          "data":{
            "text\/plain":[
              "61"
            ]
          },
          "metadata":{
            
          },
          "output_type":"display_data"
        }
      ],
      "metadata":{
        
      }
    },
    {
      "cell_type":"code",
      "source":[
        "Ages.std()"
      ],
      "execution_count":56,
      "outputs":[
        {
          "data":{
            "text\/plain":[
              "13.435028842544403"
            ]
          },
          "metadata":{
            
          },
          "output_type":"display_data"
        }
      ],
      "metadata":{
        
      }
    },
    {
      "cell_type":"code",
      "source":[
        "import pandas as pd\n",
        "scientits = pd.read_csv(\"https:\/\/raw.githubusercontent.com\/chendaniely\/pandas_for_everyone\/master\/data\/scientists.csv\", sep = ',')"
      ],
      "execution_count":4,
      "outputs":[
        
      ],
      "metadata":{
        
      }
    },
    {
      "cell_type":"code",
      "source":[
        "scientits"
      ],
      "execution_count":5,
      "outputs":[
        {
          "data":{
            "text\/html":[
              "<div>\n",
              "<style scoped>\n",
              "    .dataframe tbody tr th:only-of-type {\n",
              "        vertical-align: middle;\n",
              "    }\n",
              "\n",
              "    .dataframe tbody tr th {\n",
              "        vertical-align: top;\n",
              "    }\n",
              "\n",
              "    .dataframe thead th {\n",
              "        text-align: right;\n",
              "    }\n",
              "<\/style>\n",
              "<table border=\"1\" class=\"dataframe\">\n",
              "  <thead>\n",
              "    <tr style=\"text-align: right;\">\n",
              "      <th><\/th>\n",
              "      <th>Name<\/th>\n",
              "      <th>Born<\/th>\n",
              "      <th>Died<\/th>\n",
              "      <th>Age<\/th>\n",
              "      <th>Occupation<\/th>\n",
              "    <\/tr>\n",
              "  <\/thead>\n",
              "  <tbody>\n",
              "    <tr>\n",
              "      <th>0<\/th>\n",
              "      <td>Rosaline Franklin<\/td>\n",
              "      <td>1920-07-25<\/td>\n",
              "      <td>1958-04-16<\/td>\n",
              "      <td>37<\/td>\n",
              "      <td>Chemist<\/td>\n",
              "    <\/tr>\n",
              "    <tr>\n",
              "      <th>1<\/th>\n",
              "      <td>William Gosset<\/td>\n",
              "      <td>1876-06-13<\/td>\n",
              "      <td>1937-10-16<\/td>\n",
              "      <td>61<\/td>\n",
              "      <td>Statistician<\/td>\n",
              "    <\/tr>\n",
              "    <tr>\n",
              "      <th>2<\/th>\n",
              "      <td>Florence Nightingale<\/td>\n",
              "      <td>1820-05-12<\/td>\n",
              "      <td>1910-08-13<\/td>\n",
              "      <td>90<\/td>\n",
              "      <td>Nurse<\/td>\n",
              "    <\/tr>\n",
              "    <tr>\n",
              "      <th>3<\/th>\n",
              "      <td>Marie Curie<\/td>\n",
              "      <td>1867-11-07<\/td>\n",
              "      <td>1934-07-04<\/td>\n",
              "      <td>66<\/td>\n",
              "      <td>Chemist<\/td>\n",
              "    <\/tr>\n",
              "    <tr>\n",
              "      <th>4<\/th>\n",
              "      <td>Rachel Carson<\/td>\n",
              "      <td>1907-05-27<\/td>\n",
              "      <td>1964-04-14<\/td>\n",
              "      <td>56<\/td>\n",
              "      <td>Biologist<\/td>\n",
              "    <\/tr>\n",
              "    <tr>\n",
              "      <th>5<\/th>\n",
              "      <td>John Snow<\/td>\n",
              "      <td>1813-03-15<\/td>\n",
              "      <td>1858-06-16<\/td>\n",
              "      <td>45<\/td>\n",
              "      <td>Physician<\/td>\n",
              "    <\/tr>\n",
              "    <tr>\n",
              "      <th>6<\/th>\n",
              "      <td>Alan Turing<\/td>\n",
              "      <td>1912-06-23<\/td>\n",
              "      <td>1954-06-07<\/td>\n",
              "      <td>41<\/td>\n",
              "      <td>Computer Scientist<\/td>\n",
              "    <\/tr>\n",
              "    <tr>\n",
              "      <th>7<\/th>\n",
              "      <td>Johann Gauss<\/td>\n",
              "      <td>1777-04-30<\/td>\n",
              "      <td>1855-02-23<\/td>\n",
              "      <td>77<\/td>\n",
              "      <td>Mathematician<\/td>\n",
              "    <\/tr>\n",
              "  <\/tbody>\n",
              "<\/table>\n",
              "<\/div>"
            ]
          },
          "metadata":{
            
          },
          "output_type":"display_data"
        }
      ],
      "metadata":{
        
      }
    },
    {
      "cell_type":"code",
      "source":[
        "ages = scientits.loc[:,'Age']"
      ],
      "execution_count":6,
      "outputs":[
        
      ],
      "metadata":{
        
      }
    },
    {
      "cell_type":"code",
      "source":[
        "print(ages)"
      ],
      "execution_count":7,
      "outputs":[
        {
          "name":"stdout",
          "text":[
            "0    37\n",
            "1    61\n",
            "2    90\n",
            "3    66\n",
            "4    56\n",
            "5    45\n",
            "6    41\n",
            "7    77\n",
            "Name: Age, dtype: int64\n"
          ],
          "output_type":"stream"
        }
      ],
      "metadata":{
        
      }
    },
    {
      "cell_type":"code",
      "source":[
        "print(ages.describe())"
      ],
      "execution_count":8,
      "outputs":[
        {
          "name":"stdout",
          "text":[
            "count     8.000000\n",
            "mean     59.125000\n",
            "std      18.325918\n",
            "min      37.000000\n",
            "25%      44.000000\n",
            "50%      58.500000\n",
            "75%      68.750000\n",
            "max      90.000000\n",
            "Name: Age, dtype: float64\n"
          ],
          "output_type":"stream"
        }
      ],
      "metadata":{
        
      }
    },
    {
      "cell_type":"code",
      "source":[
        "ages[ages>ages.mean()]"
      ],
      "execution_count":9,
      "outputs":[
        {
          "data":{
            "text\/html":[
              
            ]
          },
          "metadata":{
            
          },
          "output_type":"display_data"
        }
      ],
      "metadata":{
        
      }
    },
    {
      "cell_type":"code",
      "source":[
        "scientits.groupby('Occupation')['Name'].nunique(\n",
        "                                                \n",
        ")"
      ],
      "execution_count":10,
      "outputs":[
        {
          "data":{
            "text\/html":[
              
            ]
          },
          "metadata":{
            
          },
          "output_type":"display_data"
        }
      ],
      "metadata":{
        
      }
    },
    {
      "cell_type":"code",
      "source":[
        "ages>ages.mean()"
      ],
      "execution_count":11,
      "outputs":[
        {
          "data":{
            "text\/html":[
              
            ]
          },
          "metadata":{
            
          },
          "output_type":"display_data"
        }
      ],
      "metadata":{
        
      }
    },
    {
      "cell_type":"code",
      "source":[
        "ages[ages<ages.mean()]"
      ],
      "execution_count":12,
      "outputs":[
        {
          "data":{
            "text\/html":[
              
            ]
          },
          "metadata":{
            
          },
          "output_type":"display_data"
        }
      ],
      "metadata":{
        
      }
    },
    {
      "cell_type":"code",
      "source":[
        "boolean_values = [False, True, False, False, True, True, False, True]"
      ],
      "execution_count":13,
      "outputs":[
        
      ],
      "metadata":{
        
      }
    },
    {
      "cell_type":"code",
      "source":[
        "ages[boolean_values]"
      ],
      "execution_count":14,
      "outputs":[
        {
          "data":{
            "text\/html":[
              
            ]
          },
          "metadata":{
            
          },
          "output_type":"display_data"
        }
      ],
      "metadata":{
        
      }
    },
    {
      "cell_type":"markdown",
      "source":[
        "# **Element - by - Element**"
      ],
      "attachments":{
        
      },
      "metadata":{
        
      }
    },
    {
      "cell_type":"code",
      "source":[
        "print(ages * ages)"
      ],
      "execution_count":15,
      "outputs":[
        {
          "name":"stdout",
          "text":[
            "0    1369\n",
            "1    3721\n",
            "2    8100\n",
            "3    4356\n",
            "4    3136\n",
            "5    2025\n",
            "6    1681\n",
            "7    5929\n",
            "Name: Age, dtype: int64\n"
          ],
          "output_type":"stream"
        }
      ],
      "metadata":{
        
      }
    },
    {
      "cell_type":"code",
      "source":[
        "ages"
      ],
      "execution_count":16,
      "outputs":[
        {
          "data":{
            "text\/html":[
              
            ]
          },
          "metadata":{
            
          },
          "output_type":"display_data"
        }
      ],
      "metadata":{
        
      }
    },
    {
      "cell_type":"code",
      "source":[
        "ages + pd.Series([1, 100])"
      ],
      "execution_count":17,
      "outputs":[
        {
          "data":{
            "text\/html":[
              
            ]
          },
          "metadata":{
            
          },
          "output_type":"display_data"
        }
      ],
      "metadata":{
        
      }
    },
    {
      "cell_type":"code",
      "source":[
        "import numpy as np "
      ],
      "execution_count":18,
      "outputs":[
        
      ],
      "metadata":{
        
      }
    },
    {
      "cell_type":"code",
      "source":[
        "ages * np.array([1, 100])"
      ],
      "execution_count":48,
      "outputs":[
        {
          "ename":"ValueError",
          "evalue":"ValueError: operands could not be broadcast together with shapes (8,) (2,) ",
          "traceback":[
            "\u001b[0;31m---------------------------------------------------------------------------",
            "Traceback (most recent call last)",
            "    at line 1 in <module>",
            "ValueError: operands could not be broadcast together with shapes (8,) (2,) "
          ],
          "output_type":"error"
        }
      ],
      "metadata":{
        
      }
    },
    {
      "cell_type":"code",
      "source":[
        "rev_ages = ages.sort_index(ascending=False)\n",
        "rev_ages"
      ],
      "execution_count":49,
      "outputs":[
        {
          "data":{
            "text\/html":[
              
            ]
          },
          "metadata":{
            
          },
          "output_type":"display_data"
        }
      ],
      "metadata":{
        
      }
    },
    {
      "cell_type":"code",
      "source":[
        "ages"
      ],
      "execution_count":50,
      "outputs":[
        {
          "data":{
            "text\/html":[
              
            ]
          },
          "metadata":{
            
          },
          "output_type":"display_data"
        }
      ],
      "metadata":{
        
      }
    },
    {
      "cell_type":"code",
      "source":[
        "ages + rev_ages"
      ],
      "execution_count":51,
      "outputs":[
        {
          "data":{
            "text\/html":[
              
            ]
          },
          "metadata":{
            
          },
          "output_type":"display_data"
        }
      ],
      "metadata":{
        
      }
    },
    {
      "cell_type":"code",
      "source":[
        "scientits[scientits.loc[:,'Age']>scientits.loc[:,'Age'].mean()]"
      ],
      "execution_count":52,
      "outputs":[
        {
          "data":{
            "text\/html":[
              "<div>\n",
              "<style scoped>\n",
              "    .dataframe tbody tr th:only-of-type {\n",
              "        vertical-align: middle;\n",
              "    }\n",
              "\n",
              "    .dataframe tbody tr th {\n",
              "        vertical-align: top;\n",
              "    }\n",
              "\n",
              "    .dataframe thead th {\n",
              "        text-align: right;\n",
              "    }\n",
              "<\/style>\n",
              "<table border=\"1\" class=\"dataframe\">\n",
              "  <thead>\n",
              "    <tr style=\"text-align: right;\">\n",
              "      <th><\/th>\n",
              "      <th>Name<\/th>\n",
              "      <th>Born<\/th>\n",
              "      <th>Died<\/th>\n",
              "      <th>Age<\/th>\n",
              "      <th>Occupation<\/th>\n",
              "    <\/tr>\n",
              "  <\/thead>\n",
              "  <tbody>\n",
              "    <tr>\n",
              "      <th>1<\/th>\n",
              "      <td>William Gosset<\/td>\n",
              "      <td>1876-06-13<\/td>\n",
              "      <td>1937-10-16<\/td>\n",
              "      <td>61<\/td>\n",
              "      <td>Statistician<\/td>\n",
              "    <\/tr>\n",
              "    <tr>\n",
              "      <th>2<\/th>\n",
              "      <td>Florence Nightingale<\/td>\n",
              "      <td>1820-05-12<\/td>\n",
              "      <td>1910-08-13<\/td>\n",
              "      <td>90<\/td>\n",
              "      <td>Nurse<\/td>\n",
              "    <\/tr>\n",
              "    <tr>\n",
              "      <th>3<\/th>\n",
              "      <td>Marie Curie<\/td>\n",
              "      <td>1867-11-07<\/td>\n",
              "      <td>1934-07-04<\/td>\n",
              "      <td>66<\/td>\n",
              "      <td>Chemist<\/td>\n",
              "    <\/tr>\n",
              "    <tr>\n",
              "      <th>7<\/th>\n",
              "      <td>Johann Gauss<\/td>\n",
              "      <td>1777-04-30<\/td>\n",
              "      <td>1855-02-23<\/td>\n",
              "      <td>77<\/td>\n",
              "      <td>Mathematician<\/td>\n",
              "    <\/tr>\n",
              "  <\/tbody>\n",
              "<\/table>\n",
              "<\/div>"
            ]
          },
          "metadata":{
            
          },
          "output_type":"display_data"
        }
      ],
      "metadata":{
        
      }
    },
    {
      "cell_type":"code",
      "source":[
        "scientist= scientits.copy()"
      ],
      "execution_count":53,
      "outputs":[
        
      ],
      "metadata":{
        
      }
    },
    {
      "cell_type":"code",
      "source":[
        "scientist"
      ],
      "execution_count":54,
      "outputs":[
        {
          "data":{
            "text\/html":[
              "<div>\n",
              "<style scoped>\n",
              "    .dataframe tbody tr th:only-of-type {\n",
              "        vertical-align: middle;\n",
              "    }\n",
              "\n",
              "    .dataframe tbody tr th {\n",
              "        vertical-align: top;\n",
              "    }\n",
              "\n",
              "    .dataframe thead th {\n",
              "        text-align: right;\n",
              "    }\n",
              "<\/style>\n",
              "<table border=\"1\" class=\"dataframe\">\n",
              "  <thead>\n",
              "    <tr style=\"text-align: right;\">\n",
              "      <th><\/th>\n",
              "      <th>Name<\/th>\n",
              "      <th>Born<\/th>\n",
              "      <th>Died<\/th>\n",
              "      <th>Age<\/th>\n",
              "      <th>Occupation<\/th>\n",
              "    <\/tr>\n",
              "  <\/thead>\n",
              "  <tbody>\n",
              "    <tr>\n",
              "      <th>0<\/th>\n",
              "      <td>Rosaline Franklin<\/td>\n",
              "      <td>1920-07-25<\/td>\n",
              "      <td>1958-04-16<\/td>\n",
              "      <td>37<\/td>\n",
              "      <td>Chemist<\/td>\n",
              "    <\/tr>\n",
              "    <tr>\n",
              "      <th>1<\/th>\n",
              "      <td>William Gosset<\/td>\n",
              "      <td>1876-06-13<\/td>\n",
              "      <td>1937-10-16<\/td>\n",
              "      <td>61<\/td>\n",
              "      <td>Statistician<\/td>\n",
              "    <\/tr>\n",
              "    <tr>\n",
              "      <th>2<\/th>\n",
              "      <td>Florence Nightingale<\/td>\n",
              "      <td>1820-05-12<\/td>\n",
              "      <td>1910-08-13<\/td>\n",
              "      <td>90<\/td>\n",
              "      <td>Nurse<\/td>\n",
              "    <\/tr>\n",
              "    <tr>\n",
              "      <th>3<\/th>\n",
              "      <td>Marie Curie<\/td>\n",
              "      <td>1867-11-07<\/td>\n",
              "      <td>1934-07-04<\/td>\n",
              "      <td>66<\/td>\n",
              "      <td>Chemist<\/td>\n",
              "    <\/tr>\n",
              "    <tr>\n",
              "      <th>4<\/th>\n",
              "      <td>Rachel Carson<\/td>\n",
              "      <td>1907-05-27<\/td>\n",
              "      <td>1964-04-14<\/td>\n",
              "      <td>56<\/td>\n",
              "      <td>Biologist<\/td>\n",
              "    <\/tr>\n",
              "    <tr>\n",
              "      <th>5<\/th>\n",
              "      <td>John Snow<\/td>\n",
              "      <td>1813-03-15<\/td>\n",
              "      <td>1858-06-16<\/td>\n",
              "      <td>45<\/td>\n",
              "      <td>Physician<\/td>\n",
              "    <\/tr>\n",
              "    <tr>\n",
              "      <th>6<\/th>\n",
              "      <td>Alan Turing<\/td>\n",
              "      <td>1912-06-23<\/td>\n",
              "      <td>1954-06-07<\/td>\n",
              "      <td>41<\/td>\n",
              "      <td>Computer Scientist<\/td>\n",
              "    <\/tr>\n",
              "    <tr>\n",
              "      <th>7<\/th>\n",
              "      <td>Johann Gauss<\/td>\n",
              "      <td>1777-04-30<\/td>\n",
              "      <td>1855-02-23<\/td>\n",
              "      <td>77<\/td>\n",
              "      <td>Mathematician<\/td>\n",
              "    <\/tr>\n",
              "  <\/tbody>\n",
              "<\/table>\n",
              "<\/div>"
            ]
          },
          "metadata":{
            
          },
          "output_type":"display_data"
        }
      ],
      "metadata":{
        
      }
    },
    {
      "cell_type":"code",
      "source":[
        "first_half = scientist[:4]\n",
        "print(first_half)"
      ],
      "execution_count":55,
      "outputs":[
        {
          "name":"stdout",
          "text":[
            "                   Name        Born        Died  Age    Occupation\n",
            "0     Rosaline Franklin  1920-07-25  1958-04-16   37       Chemist\n",
            "1        William Gosset  1876-06-13  1937-10-16   61  Statistician\n",
            "2  Florence Nightingale  1820-05-12  1910-08-13   90         Nurse\n",
            "3           Marie Curie  1867-11-07  1934-07-04   66       Chemist\n"
          ],
          "output_type":"stream"
        }
      ],
      "metadata":{
        
      }
    },
    {
      "cell_type":"code",
      "source":[
        "second_half = scientist[4:]\n",
        "print(second_half)"
      ],
      "execution_count":56,
      "outputs":[
        {
          "name":"stdout",
          "text":[
            "            Name        Born        Died  Age          Occupation\n",
            "4  Rachel Carson  1907-05-27  1964-04-14   56           Biologist\n",
            "5      John Snow  1813-03-15  1858-06-16   45           Physician\n",
            "6    Alan Turing  1912-06-23  1954-06-07   41  Computer Scientist\n",
            "7   Johann Gauss  1777-04-30  1855-02-23   77       Mathematician\n"
          ],
          "output_type":"stream"
        }
      ],
      "metadata":{
        
      }
    },
    {
      "cell_type":"code",
      "source":[
        "print(scientist * 2)"
      ],
      "execution_count":57,
      "outputs":[
        {
          "name":"stdout",
          "text":[
            "                                       Name                  Born  \\\n",
            "0        Rosaline FranklinRosaline Franklin  1920-07-251920-07-25   \n",
            "1              William GossetWilliam Gosset  1876-06-131876-06-13   \n",
            "2  Florence NightingaleFlorence Nightingale  1820-05-121820-05-12   \n",
            "3                    Marie CurieMarie Curie  1867-11-071867-11-07   \n",
            "4                Rachel CarsonRachel Carson  1907-05-271907-05-27   \n",
            "5                        John SnowJohn Snow  1813-03-151813-03-15   \n",
            "6                    Alan TuringAlan Turing  1912-06-231912-06-23   \n",
            "7                  Johann GaussJohann Gauss  1777-04-301777-04-30   \n",
            "\n",
            "                   Died  Age                            Occupation  \n",
            "0  1958-04-161958-04-16   74                        ChemistChemist  \n",
            "1  1937-10-161937-10-16  122              StatisticianStatistician  \n",
            "2  1910-08-131910-08-13  180                            NurseNurse  \n",
            "3  1934-07-041934-07-04  132                        ChemistChemist  \n",
            "4  1964-04-141964-04-14  112                    BiologistBiologist  \n",
            "5  1858-06-161858-06-16   90                    PhysicianPhysician  \n",
            "6  1954-06-071954-06-07   82  Computer ScientistComputer Scientist  \n",
            "7  1855-02-231855-02-23  154            MathematicianMathematician  \n"
          ],
          "output_type":"stream"
        }
      ],
      "metadata":{
        
      }
    },
    {
      "cell_type":"code",
      "source":[
        "print(scientist['Died'].dtype)"
      ],
      "execution_count":58,
      "outputs":[
        {
          "name":"stdout",
          "text":[
            "object\n"
          ],
          "output_type":"stream"
        }
      ],
      "metadata":{
        
      }
    },
    {
      "cell_type":"code",
      "source":[
        "scientist['Born']"
      ],
      "execution_count":59,
      "outputs":[
        {
          "data":{
            "text\/html":[
              
            ]
          },
          "metadata":{
            
          },
          "output_type":"display_data"
        }
      ],
      "metadata":{
        
      }
    },
    {
      "cell_type":"code",
      "source":[
        "born_dates = pd.to_datetime(scientist['Born'],format = '%Y-%m-%d')\n",
        "print(born_dates)"
      ],
      "execution_count":60,
      "outputs":[
        {
          "name":"stdout",
          "text":[
            "0   1920-07-25\n",
            "1   1876-06-13\n",
            "2   1820-05-12\n",
            "3   1867-11-07\n",
            "4   1907-05-27\n",
            "5   1813-03-15\n",
            "6   1912-06-23\n",
            "7   1777-04-30\n",
            "Name: Born, dtype: datetime64[ns]\n"
          ],
          "output_type":"stream"
        }
      ],
      "metadata":{
        
      }
    },
    {
      "cell_type":"code",
      "source":[
        "died_dates = pd.to_datetime(scientist['Died'],format = '%Y-%m-%d')\n",
        "print(died_dates)"
      ],
      "execution_count":61,
      "outputs":[
        {
          "name":"stdout",
          "text":[
            "0   1958-04-16\n",
            "1   1937-10-16\n",
            "2   1910-08-13\n",
            "3   1934-07-04\n",
            "4   1964-04-14\n",
            "5   1858-06-16\n",
            "6   1954-06-07\n",
            "7   1855-02-23\n",
            "Name: Died, dtype: datetime64[ns]\n"
          ],
          "output_type":"stream"
        }
      ],
      "metadata":{
        
      }
    },
    {
      "cell_type":"code",
      "source":[
        "scientist['Born_dt'], scientist['Died_dt'] = (born_dates, died_dates)"
      ],
      "execution_count":62,
      "outputs":[
        
      ],
      "metadata":{
        
      }
    },
    {
      "cell_type":"code",
      "source":[
        "scientist"
      ],
      "execution_count":63,
      "outputs":[
        {
          "data":{
            "text\/html":[
              "<div>\n",
              "<style scoped>\n",
              "    .dataframe tbody tr th:only-of-type {\n",
              "        vertical-align: middle;\n",
              "    }\n",
              "\n",
              "    .dataframe tbody tr th {\n",
              "        vertical-align: top;\n",
              "    }\n",
              "\n",
              "    .dataframe thead th {\n",
              "        text-align: right;\n",
              "    }\n",
              "<\/style>\n",
              "<table border=\"1\" class=\"dataframe\">\n",
              "  <thead>\n",
              "    <tr style=\"text-align: right;\">\n",
              "      <th><\/th>\n",
              "      <th>Name<\/th>\n",
              "      <th>Born<\/th>\n",
              "      <th>Died<\/th>\n",
              "      <th>Age<\/th>\n",
              "      <th>Occupation<\/th>\n",
              "      <th>Born_dt<\/th>\n",
              "      <th>Died_dt<\/th>\n",
              "    <\/tr>\n",
              "  <\/thead>\n",
              "  <tbody>\n",
              "    <tr>\n",
              "      <th>0<\/th>\n",
              "      <td>Rosaline Franklin<\/td>\n",
              "      <td>1920-07-25<\/td>\n",
              "      <td>1958-04-16<\/td>\n",
              "      <td>37<\/td>\n",
              "      <td>Chemist<\/td>\n",
              "      <td>1920-07-25<\/td>\n",
              "      <td>1958-04-16<\/td>\n",
              "    <\/tr>\n",
              "    <tr>\n",
              "      <th>1<\/th>\n",
              "      <td>William Gosset<\/td>\n",
              "      <td>1876-06-13<\/td>\n",
              "      <td>1937-10-16<\/td>\n",
              "      <td>61<\/td>\n",
              "      <td>Statistician<\/td>\n",
              "      <td>1876-06-13<\/td>\n",
              "      <td>1937-10-16<\/td>\n",
              "    <\/tr>\n",
              "    <tr>\n",
              "      <th>2<\/th>\n",
              "      <td>Florence Nightingale<\/td>\n",
              "      <td>1820-05-12<\/td>\n",
              "      <td>1910-08-13<\/td>\n",
              "      <td>90<\/td>\n",
              "      <td>Nurse<\/td>\n",
              "      <td>1820-05-12<\/td>\n",
              "      <td>1910-08-13<\/td>\n",
              "    <\/tr>\n",
              "    <tr>\n",
              "      <th>3<\/th>\n",
              "      <td>Marie Curie<\/td>\n",
              "      <td>1867-11-07<\/td>\n",
              "      <td>1934-07-04<\/td>\n",
              "      <td>66<\/td>\n",
              "      <td>Chemist<\/td>\n",
              "      <td>1867-11-07<\/td>\n",
              "      <td>1934-07-04<\/td>\n",
              "    <\/tr>\n",
              "    <tr>\n",
              "      <th>4<\/th>\n",
              "      <td>Rachel Carson<\/td>\n",
              "      <td>1907-05-27<\/td>\n",
              "      <td>1964-04-14<\/td>\n",
              "      <td>56<\/td>\n",
              "      <td>Biologist<\/td>\n",
              "      <td>1907-05-27<\/td>\n",
              "      <td>1964-04-14<\/td>\n",
              "    <\/tr>\n",
              "    <tr>\n",
              "      <th>5<\/th>\n",
              "      <td>John Snow<\/td>\n",
              "      <td>1813-03-15<\/td>\n",
              "      <td>1858-06-16<\/td>\n",
              "      <td>45<\/td>\n",
              "      <td>Physician<\/td>\n",
              "      <td>1813-03-15<\/td>\n",
              "      <td>1858-06-16<\/td>\n",
              "    <\/tr>\n",
              "    <tr>\n",
              "      <th>6<\/th>\n",
              "      <td>Alan Turing<\/td>\n",
              "      <td>1912-06-23<\/td>\n",
              "      <td>1954-06-07<\/td>\n",
              "      <td>41<\/td>\n",
              "      <td>Computer Scientist<\/td>\n",
              "      <td>1912-06-23<\/td>\n",
              "      <td>1954-06-07<\/td>\n",
              "    <\/tr>\n",
              "    <tr>\n",
              "      <th>7<\/th>\n",
              "      <td>Johann Gauss<\/td>\n",
              "      <td>1777-04-30<\/td>\n",
              "      <td>1855-02-23<\/td>\n",
              "      <td>77<\/td>\n",
              "      <td>Mathematician<\/td>\n",
              "      <td>1777-04-30<\/td>\n",
              "      <td>1855-02-23<\/td>\n",
              "    <\/tr>\n",
              "  <\/tbody>\n",
              "<\/table>\n",
              "<\/div>"
            ]
          },
          "metadata":{
            
          },
          "output_type":"display_data"
        }
      ],
      "metadata":{
        
      }
    },
    {
      "cell_type":"code",
      "source":[
        "import random"
      ],
      "execution_count":64,
      "outputs":[
        
      ],
      "metadata":{
        
      }
    },
    {
      "cell_type":"code",
      "source":[
        "random.seed(424)\n",
        "scientist['Age']"
      ],
      "execution_count":65,
      "outputs":[
        {
          "data":{
            "text\/html":[
              
            ]
          },
          "metadata":{
            
          },
          "output_type":"display_data"
        }
      ],
      "metadata":{
        
      }
    },
    {
      "cell_type":"code",
      "source":[
        "random.shuffle(scientist['Age'])"
      ],
      "execution_count":66,
      "outputs":[
        {
          "name":"stderr",
          "text":[
            "\/opt\/python\/lib\/python3.8\/random.py:307: SettingWithCopyWarning: \n",
            "A value is trying to be set on a copy of a slice from a DataFrame\n",
            "\n",
            "See the caveats in the documentation: https:\/\/pandas.pydata.org\/pandas-docs\/stable\/user_guide\/indexing.html#returning-a-view-versus-a-copy\n",
            "  x[i], x[j] = x[j], x[i]\n"
          ],
          "output_type":"stream"
        }
      ],
      "metadata":{
        
      }
    },
    {
      "cell_type":"code",
      "source":[
        "scientist['Age']"
      ],
      "execution_count":67,
      "outputs":[
        {
          "data":{
            "text\/html":[
              
            ]
          },
          "metadata":{
            
          },
          "output_type":"display_data"
        }
      ],
      "metadata":{
        
      }
    },
    {
      "cell_type":"code",
      "source":[
        "scientist['Age'] = scientist['Age'].sample(len(scientist['Age']),random_state = 31)"
      ],
      "execution_count":68,
      "outputs":[
        
      ],
      "metadata":{
        
      }
    },
    {
      "cell_type":"code",
      "source":[
        "scientist['Age']"
      ],
      "execution_count":69,
      "outputs":[
        {
          "data":{
            "text\/html":[
              
            ]
          },
          "metadata":{
            
          },
          "output_type":"display_data"
        }
      ],
      "metadata":{
        
      }
    },
    {
      "cell_type":"code",
      "source":[
        "scientist['age_days_dt'] = (scientist['Died_dt'] - scientist['Born_dt'])"
      ],
      "execution_count":70,
      "outputs":[
        
      ],
      "metadata":{
        
      }
    },
    {
      "cell_type":"code",
      "source":[
        "scientist"
      ],
      "execution_count":71,
      "outputs":[
        {
          "data":{
            "text\/html":[
              "<div>\n",
              "<style scoped>\n",
              "    .dataframe tbody tr th:only-of-type {\n",
              "        vertical-align: middle;\n",
              "    }\n",
              "\n",
              "    .dataframe tbody tr th {\n",
              "        vertical-align: top;\n",
              "    }\n",
              "\n",
              "    .dataframe thead th {\n",
              "        text-align: right;\n",
              "    }\n",
              "<\/style>\n",
              "<table border=\"1\" class=\"dataframe\">\n",
              "  <thead>\n",
              "    <tr style=\"text-align: right;\">\n",
              "      <th><\/th>\n",
              "      <th>Name<\/th>\n",
              "      <th>Born<\/th>\n",
              "      <th>Died<\/th>\n",
              "      <th>Age<\/th>\n",
              "      <th>Occupation<\/th>\n",
              "      <th>Born_dt<\/th>\n",
              "      <th>Died_dt<\/th>\n",
              "      <th>age_days_dt<\/th>\n",
              "    <\/tr>\n",
              "  <\/thead>\n",
              "  <tbody>\n",
              "    <tr>\n",
              "      <th>0<\/th>\n",
              "      <td>Rosaline Franklin<\/td>\n",
              "      <td>1920-07-25<\/td>\n",
              "      <td>1958-04-16<\/td>\n",
              "      <td>66<\/td>\n",
              "      <td>Chemist<\/td>\n",
              "      <td>1920-07-25<\/td>\n",
              "      <td>1958-04-16<\/td>\n",
              "      <td>13779 days<\/td>\n",
              "    <\/tr>\n",
              "    <tr>\n",
              "      <th>1<\/th>\n",
              "      <td>William Gosset<\/td>\n",
              "      <td>1876-06-13<\/td>\n",
              "      <td>1937-10-16<\/td>\n",
              "      <td>56<\/td>\n",
              "      <td>Statistician<\/td>\n",
              "      <td>1876-06-13<\/td>\n",
              "      <td>1937-10-16<\/td>\n",
              "      <td>22404 days<\/td>\n",
              "    <\/tr>\n",
              "    <tr>\n",
              "      <th>2<\/th>\n",
              "      <td>Florence Nightingale<\/td>\n",
              "      <td>1820-05-12<\/td>\n",
              "      <td>1910-08-13<\/td>\n",
              "      <td>90<\/td>\n",
              "      <td>Nurse<\/td>\n",
              "      <td>1820-05-12<\/td>\n",
              "      <td>1910-08-13<\/td>\n",
              "      <td>32964 days<\/td>\n",
              "    <\/tr>\n",
              "    <tr>\n",
              "      <th>3<\/th>\n",
              "      <td>Marie Curie<\/td>\n",
              "      <td>1867-11-07<\/td>\n",
              "      <td>1934-07-04<\/td>\n",
              "      <td>37<\/td>\n",
              "      <td>Chemist<\/td>\n",
              "      <td>1867-11-07<\/td>\n",
              "      <td>1934-07-04<\/td>\n",
              "      <td>24345 days<\/td>\n",
              "    <\/tr>\n",
              "    <tr>\n",
              "      <th>4<\/th>\n",
              "      <td>Rachel Carson<\/td>\n",
              "      <td>1907-05-27<\/td>\n",
              "      <td>1964-04-14<\/td>\n",
              "      <td>61<\/td>\n",
              "      <td>Biologist<\/td>\n",
              "      <td>1907-05-27<\/td>\n",
              "      <td>1964-04-14<\/td>\n",
              "      <td>20777 days<\/td>\n",
              "    <\/tr>\n",
              "    <tr>\n",
              "      <th>5<\/th>\n",
              "      <td>John Snow<\/td>\n",
              "      <td>1813-03-15<\/td>\n",
              "      <td>1858-06-16<\/td>\n",
              "      <td>45<\/td>\n",
              "      <td>Physician<\/td>\n",
              "      <td>1813-03-15<\/td>\n",
              "      <td>1858-06-16<\/td>\n",
              "      <td>16529 days<\/td>\n",
              "    <\/tr>\n",
              "    <tr>\n",
              "      <th>6<\/th>\n",
              "      <td>Alan Turing<\/td>\n",
              "      <td>1912-06-23<\/td>\n",
              "      <td>1954-06-07<\/td>\n",
              "      <td>41<\/td>\n",
              "      <td>Computer Scientist<\/td>\n",
              "      <td>1912-06-23<\/td>\n",
              "      <td>1954-06-07<\/td>\n",
              "      <td>15324 days<\/td>\n",
              "    <\/tr>\n",
              "    <tr>\n",
              "      <th>7<\/th>\n",
              "      <td>Johann Gauss<\/td>\n",
              "      <td>1777-04-30<\/td>\n",
              "      <td>1855-02-23<\/td>\n",
              "      <td>77<\/td>\n",
              "      <td>Mathematician<\/td>\n",
              "      <td>1777-04-30<\/td>\n",
              "      <td>1855-02-23<\/td>\n",
              "      <td>28422 days<\/td>\n",
              "    <\/tr>\n",
              "  <\/tbody>\n",
              "<\/table>\n",
              "<\/div>"
            ]
          },
          "metadata":{
            
          },
          "output_type":"display_data"
        }
      ],
      "metadata":{
        
      }
    },
    {
      "cell_type":"code",
      "source":[
        "scientist['age_years_dt'] = scientist['age_days_dt'].astype('timedelta64[Y]')"
      ],
      "execution_count":72,
      "outputs":[
        
      ],
      "metadata":{
        
      }
    },
    {
      "cell_type":"code",
      "source":[
        "scientist"
      ],
      "execution_count":73,
      "outputs":[
        {
          "data":{
            "text\/html":[
              "<div>\n",
              "<style scoped>\n",
              "    .dataframe tbody tr th:only-of-type {\n",
              "        vertical-align: middle;\n",
              "    }\n",
              "\n",
              "    .dataframe tbody tr th {\n",
              "        vertical-align: top;\n",
              "    }\n",
              "\n",
              "    .dataframe thead th {\n",
              "        text-align: right;\n",
              "    }\n",
              "<\/style>\n",
              "<table border=\"1\" class=\"dataframe\">\n",
              "  <thead>\n",
              "    <tr style=\"text-align: right;\">\n",
              "      <th><\/th>\n",
              "      <th>Name<\/th>\n",
              "      <th>Born<\/th>\n",
              "      <th>Died<\/th>\n",
              "      <th>Age<\/th>\n",
              "      <th>Occupation<\/th>\n",
              "      <th>Born_dt<\/th>\n",
              "      <th>Died_dt<\/th>\n",
              "      <th>age_days_dt<\/th>\n",
              "      <th>age_years_dt<\/th>\n",
              "    <\/tr>\n",
              "  <\/thead>\n",
              "  <tbody>\n",
              "    <tr>\n",
              "      <th>0<\/th>\n",
              "      <td>Rosaline Franklin<\/td>\n",
              "      <td>1920-07-25<\/td>\n",
              "      <td>1958-04-16<\/td>\n",
              "      <td>66<\/td>\n",
              "      <td>Chemist<\/td>\n",
              "      <td>1920-07-25<\/td>\n",
              "      <td>1958-04-16<\/td>\n",
              "      <td>13779 days<\/td>\n",
              "      <td>37.0<\/td>\n",
              "    <\/tr>\n",
              "    <tr>\n",
              "      <th>1<\/th>\n",
              "      <td>William Gosset<\/td>\n",
              "      <td>1876-06-13<\/td>\n",
              "      <td>1937-10-16<\/td>\n",
              "      <td>56<\/td>\n",
              "      <td>Statistician<\/td>\n",
              "      <td>1876-06-13<\/td>\n",
              "      <td>1937-10-16<\/td>\n",
              "      <td>22404 days<\/td>\n",
              "      <td>61.0<\/td>\n",
              "    <\/tr>\n",
              "    <tr>\n",
              "      <th>2<\/th>\n",
              "      <td>Florence Nightingale<\/td>\n",
              "      <td>1820-05-12<\/td>\n",
              "      <td>1910-08-13<\/td>\n",
              "      <td>90<\/td>\n",
              "      <td>Nurse<\/td>\n",
              "      <td>1820-05-12<\/td>\n",
              "      <td>1910-08-13<\/td>\n",
              "      <td>32964 days<\/td>\n",
              "      <td>90.0<\/td>\n",
              "    <\/tr>\n",
              "    <tr>\n",
              "      <th>3<\/th>\n",
              "      <td>Marie Curie<\/td>\n",
              "      <td>1867-11-07<\/td>\n",
              "      <td>1934-07-04<\/td>\n",
              "      <td>37<\/td>\n",
              "      <td>Chemist<\/td>\n",
              "      <td>1867-11-07<\/td>\n",
              "      <td>1934-07-04<\/td>\n",
              "      <td>24345 days<\/td>\n",
              "      <td>66.0<\/td>\n",
              "    <\/tr>\n",
              "    <tr>\n",
              "      <th>4<\/th>\n",
              "      <td>Rachel Carson<\/td>\n",
              "      <td>1907-05-27<\/td>\n",
              "      <td>1964-04-14<\/td>\n",
              "      <td>61<\/td>\n",
              "      <td>Biologist<\/td>\n",
              "      <td>1907-05-27<\/td>\n",
              "      <td>1964-04-14<\/td>\n",
              "      <td>20777 days<\/td>\n",
              "      <td>56.0<\/td>\n",
              "    <\/tr>\n",
              "    <tr>\n",
              "      <th>5<\/th>\n",
              "      <td>John Snow<\/td>\n",
              "      <td>1813-03-15<\/td>\n",
              "      <td>1858-06-16<\/td>\n",
              "      <td>45<\/td>\n",
              "      <td>Physician<\/td>\n",
              "      <td>1813-03-15<\/td>\n",
              "      <td>1858-06-16<\/td>\n",
              "      <td>16529 days<\/td>\n",
              "      <td>45.0<\/td>\n",
              "    <\/tr>\n",
              "    <tr>\n",
              "      <th>6<\/th>\n",
              "      <td>Alan Turing<\/td>\n",
              "      <td>1912-06-23<\/td>\n",
              "      <td>1954-06-07<\/td>\n",
              "      <td>41<\/td>\n",
              "      <td>Computer Scientist<\/td>\n",
              "      <td>1912-06-23<\/td>\n",
              "      <td>1954-06-07<\/td>\n",
              "      <td>15324 days<\/td>\n",
              "      <td>41.0<\/td>\n",
              "    <\/tr>\n",
              "    <tr>\n",
              "      <th>7<\/th>\n",
              "      <td>Johann Gauss<\/td>\n",
              "      <td>1777-04-30<\/td>\n",
              "      <td>1855-02-23<\/td>\n",
              "      <td>77<\/td>\n",
              "      <td>Mathematician<\/td>\n",
              "      <td>1777-04-30<\/td>\n",
              "      <td>1855-02-23<\/td>\n",
              "      <td>28422 days<\/td>\n",
              "      <td>77.0<\/td>\n",
              "    <\/tr>\n",
              "  <\/tbody>\n",
              "<\/table>\n",
              "<\/div>"
            ]
          },
          "metadata":{
            
          },
          "output_type":"display_data"
        }
      ],
      "metadata":{
        
      }
    },
    {
      "cell_type":"code",
      "source":[
        "scientist.columns"
      ],
      "execution_count":74,
      "outputs":[
        {
          "data":{
            "text\/plain":[
              "Index(['Name', 'Born', 'Died', 'Age', 'Occupation', 'Born_dt', 'Died_dt',\n",
              "       'age_days_dt', 'age_years_dt'],\n",
              "      dtype='object')"
            ]
          },
          "metadata":{
            
          },
          "output_type":"display_data"
        }
      ],
      "metadata":{
        
      }
    },
    {
      "cell_type":"code",
      "source":[
        "drop_columns = ['Born','Died','Age']"
      ],
      "execution_count":75,
      "outputs":[
        
      ],
      "metadata":{
        
      }
    },
    {
      "cell_type":"code",
      "source":[
        "scientist = scientist.drop(columns=drop_columns)"
      ],
      "execution_count":76,
      "outputs":[
        
      ],
      "metadata":{
        
      }
    },
    {
      "cell_type":"code",
      "source":[
        "scientist"
      ],
      "execution_count":77,
      "outputs":[
        {
          "data":{
            "text\/html":[
              "<div>\n",
              "<style scoped>\n",
              "    .dataframe tbody tr th:only-of-type {\n",
              "        vertical-align: middle;\n",
              "    }\n",
              "\n",
              "    .dataframe tbody tr th {\n",
              "        vertical-align: top;\n",
              "    }\n",
              "\n",
              "    .dataframe thead th {\n",
              "        text-align: right;\n",
              "    }\n",
              "<\/style>\n",
              "<table border=\"1\" class=\"dataframe\">\n",
              "  <thead>\n",
              "    <tr style=\"text-align: right;\">\n",
              "      <th><\/th>\n",
              "      <th>Name<\/th>\n",
              "      <th>Occupation<\/th>\n",
              "      <th>Born_dt<\/th>\n",
              "      <th>Died_dt<\/th>\n",
              "      <th>age_days_dt<\/th>\n",
              "      <th>age_years_dt<\/th>\n",
              "    <\/tr>\n",
              "  <\/thead>\n",
              "  <tbody>\n",
              "    <tr>\n",
              "      <th>0<\/th>\n",
              "      <td>Rosaline Franklin<\/td>\n",
              "      <td>Chemist<\/td>\n",
              "      <td>1920-07-25<\/td>\n",
              "      <td>1958-04-16<\/td>\n",
              "      <td>13779 days<\/td>\n",
              "      <td>37.0<\/td>\n",
              "    <\/tr>\n",
              "    <tr>\n",
              "      <th>1<\/th>\n",
              "      <td>William Gosset<\/td>\n",
              "      <td>Statistician<\/td>\n",
              "      <td>1876-06-13<\/td>\n",
              "      <td>1937-10-16<\/td>\n",
              "      <td>22404 days<\/td>\n",
              "      <td>61.0<\/td>\n",
              "    <\/tr>\n",
              "    <tr>\n",
              "      <th>2<\/th>\n",
              "      <td>Florence Nightingale<\/td>\n",
              "      <td>Nurse<\/td>\n",
              "      <td>1820-05-12<\/td>\n",
              "      <td>1910-08-13<\/td>\n",
              "      <td>32964 days<\/td>\n",
              "      <td>90.0<\/td>\n",
              "    <\/tr>\n",
              "    <tr>\n",
              "      <th>3<\/th>\n",
              "      <td>Marie Curie<\/td>\n",
              "      <td>Chemist<\/td>\n",
              "      <td>1867-11-07<\/td>\n",
              "      <td>1934-07-04<\/td>\n",
              "      <td>24345 days<\/td>\n",
              "      <td>66.0<\/td>\n",
              "    <\/tr>\n",
              "    <tr>\n",
              "      <th>4<\/th>\n",
              "      <td>Rachel Carson<\/td>\n",
              "      <td>Biologist<\/td>\n",
              "      <td>1907-05-27<\/td>\n",
              "      <td>1964-04-14<\/td>\n",
              "      <td>20777 days<\/td>\n",
              "      <td>56.0<\/td>\n",
              "    <\/tr>\n",
              "    <tr>\n",
              "      <th>5<\/th>\n",
              "      <td>John Snow<\/td>\n",
              "      <td>Physician<\/td>\n",
              "      <td>1813-03-15<\/td>\n",
              "      <td>1858-06-16<\/td>\n",
              "      <td>16529 days<\/td>\n",
              "      <td>45.0<\/td>\n",
              "    <\/tr>\n",
              "    <tr>\n",
              "      <th>6<\/th>\n",
              "      <td>Alan Turing<\/td>\n",
              "      <td>Computer Scientist<\/td>\n",
              "      <td>1912-06-23<\/td>\n",
              "      <td>1954-06-07<\/td>\n",
              "      <td>15324 days<\/td>\n",
              "      <td>41.0<\/td>\n",
              "    <\/tr>\n",
              "    <tr>\n",
              "      <th>7<\/th>\n",
              "      <td>Johann Gauss<\/td>\n",
              "      <td>Mathematician<\/td>\n",
              "      <td>1777-04-30<\/td>\n",
              "      <td>1855-02-23<\/td>\n",
              "      <td>28422 days<\/td>\n",
              "      <td>77.0<\/td>\n",
              "    <\/tr>\n",
              "  <\/tbody>\n",
              "<\/table>\n",
              "<\/div>"
            ]
          },
          "metadata":{
            
          },
          "output_type":"display_data"
        }
      ],
      "metadata":{
        
      }
    },
    {
      "cell_type":"code",
      "source":[
        "names = scientist['Name']"
      ],
      "execution_count":78,
      "outputs":[
        
      ],
      "metadata":{
        
      }
    },
    {
      "cell_type":"code",
      "source":[
        "names"
      ],
      "execution_count":79,
      "outputs":[
        {
          "data":{
            "text\/html":[
              
            ]
          },
          "metadata":{
            
          },
          "output_type":"display_data"
        }
      ],
      "metadata":{
        
      }
    },
    {
      "cell_type":"code",
      "source":[
        "names.to_csv('scientists_names_series.csv',index=False)"
      ],
      "execution_count":80,
      "outputs":[
        
      ],
      "metadata":{
        
      }
    },
    {
      "cell_type":"code",
      "source":[
        "names.to_csv('scientists_names_series.csv',sep='\\t')"
      ],
      "execution_count":81,
      "outputs":[
        
      ],
      "metadata":{
        
      }
    },
    {
      "cell_type":"code",
      "source":[
        "namesdf = names.to_frame()"
      ],
      "execution_count":82,
      "outputs":[
        
      ],
      "metadata":{
        
      }
    },
    {
      "cell_type":"code",
      "source":[
        "import xlwt"
      ],
      "execution_count":83,
      "outputs":[
        
      ],
      "metadata":{
        
      }
    },
    {
      "cell_type":"code",
      "source":[
        "import openpyxl"
      ],
      "execution_count":84,
      "outputs":[
        
      ],
      "metadata":{
        
      }
    },
    {
      "cell_type":"code",
      "source":[
        "namesdf"
      ],
      "execution_count":85,
      "outputs":[
        {
          "data":{
            "text\/html":[
              "<div>\n",
              "<style scoped>\n",
              "    .dataframe tbody tr th:only-of-type {\n",
              "        vertical-align: middle;\n",
              "    }\n",
              "\n",
              "    .dataframe tbody tr th {\n",
              "        vertical-align: top;\n",
              "    }\n",
              "\n",
              "    .dataframe thead th {\n",
              "        text-align: right;\n",
              "    }\n",
              "<\/style>\n",
              "<table border=\"1\" class=\"dataframe\">\n",
              "  <thead>\n",
              "    <tr style=\"text-align: right;\">\n",
              "      <th><\/th>\n",
              "      <th>Name<\/th>\n",
              "    <\/tr>\n",
              "  <\/thead>\n",
              "  <tbody>\n",
              "    <tr>\n",
              "      <th>0<\/th>\n",
              "      <td>Rosaline Franklin<\/td>\n",
              "    <\/tr>\n",
              "    <tr>\n",
              "      <th>1<\/th>\n",
              "      <td>William Gosset<\/td>\n",
              "    <\/tr>\n",
              "    <tr>\n",
              "      <th>2<\/th>\n",
              "      <td>Florence Nightingale<\/td>\n",
              "    <\/tr>\n",
              "    <tr>\n",
              "      <th>3<\/th>\n",
              "      <td>Marie Curie<\/td>\n",
              "    <\/tr>\n",
              "    <tr>\n",
              "      <th>4<\/th>\n",
              "      <td>Rachel Carson<\/td>\n",
              "    <\/tr>\n",
              "    <tr>\n",
              "      <th>5<\/th>\n",
              "      <td>John Snow<\/td>\n",
              "    <\/tr>\n",
              "    <tr>\n",
              "      <th>6<\/th>\n",
              "      <td>Alan Turing<\/td>\n",
              "    <\/tr>\n",
              "    <tr>\n",
              "      <th>7<\/th>\n",
              "      <td>Johann Gauss<\/td>\n",
              "    <\/tr>\n",
              "  <\/tbody>\n",
              "<\/table>\n",
              "<\/div>"
            ]
          },
          "metadata":{
            
          },
          "output_type":"display_data"
        }
      ],
      "metadata":{
        
      }
    },
    {
      "cell_type":"code",
      "source":[
        "namesdf.to_excel(\"namesdf.xlsx\")"
      ],
      "execution_count":88,
      "outputs":[
        
      ],
      "metadata":{
        
      }
    },
    {
      "cell_type":"code",
      "source":[
        "scientist.to_excel('scientist.xlsx',\n",
        "                  sheet_name= 'scientist',\n",
        "                  index=False)"
      ],
      "execution_count":90,
      "outputs":[
        
      ],
      "metadata":{
        
      }
    },
    {
      "cell_type":"code",
      "source":[
        
      ],
      "execution_count":85,
      "outputs":[
        
      ],
      "metadata":{
        
      }
    },
    {
      "cell_type":"code",
      "source":[
        
      ],
      "execution_count":85,
      "outputs":[
        
      ],
      "metadata":{
        
      }
    },
    {
      "cell_type":"code",
      "source":[
        
      ],
      "execution_count":85,
      "outputs":[
        
      ],
      "metadata":{
        
      }
    },
    {
      "cell_type":"code",
      "source":[
        
      ],
      "execution_count":85,
      "outputs":[
        
      ],
      "metadata":{
        
      }
    },
    {
      "cell_type":"code",
      "source":[
        
      ],
      "execution_count":85,
      "outputs":[
        
      ],
      "metadata":{
        
      }
    },
    {
      "cell_type":"code",
      "source":[
        
      ],
      "execution_count":85,
      "outputs":[
        
      ],
      "metadata":{
        
      }
    },
    {
      "cell_type":"code",
      "source":[
        
      ],
      "execution_count":0,
      "outputs":[
        
      ],
      "metadata":{
        
      }
    }
  ],
  "metadata":{
    
  },
  "nbformat":4,
  "nbformat_minor":0
}